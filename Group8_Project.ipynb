{
 "cells": [
  {
   "cell_type": "markdown",
   "metadata": {
    "id": "qttmmneEw6V3"
   },
   "source": [
    "# The classification goal is to predict if the client will subscribe a term deposit (variable y).\n",
    "\n",
    "# background:\n",
    "\n",
    "   The data is related with direct marketing campaigns of a Portuguese banking institution. \n",
    "   The marketing campaigns were based on phone calls. Often, more than one contact to the same client was required, \n",
    "   in order to access if the product (bank term deposit) would be (or not) subscribed. \n",
    "\n",
    "\n",
    "# Input variables:\n",
    "# bank client data:\n",
    "   1 - age (numeric)\n",
    "   2 - job : type of job (categorical: \"admin.\",\"unknown\",\"unemployed\",\"management\",\"housemaid\",\"entrepreneur\",\"student\",\n",
    "                                       \"blue-collar\",\"self-employed\",\"retired\",\"technician\",\"services\") \n",
    "   3 - marital : marital status (categorical: \"married\",\"divorced\",\"single\"; note: \"divorced\" means divorced or widowed)\n",
    "   4 - education (categorical: \"unknown\",\"secondary\",\"primary\",\"tertiary\")\n",
    "   5 - default: has credit in default? (binary: \"yes\",\"no\")\n",
    "   6 - balance: average yearly balance, in euros (numeric) \n",
    "   7 - housing: has housing loan? (binary: \"yes\",\"no\")\n",
    "   8 - loan: has personal loan? (binary: \"yes\",\"no\")\n",
    "   \n",
    "# related with the last contact of the current campaign:\n",
    "   9 - contact: contact communication type (categorical: \"unknown\",\"telephone\",\"cellular\") \n",
    "  10 - day: last contact day of the month (numeric)\n",
    "  11 - month: last contact month of year (categorical: \"jan\", \"feb\", \"mar\", ..., \"nov\", \"dec\")\n",
    "  12 - duration: last contact duration, in seconds (numeric)\n",
    "  \n",
    "# other attributes:\n",
    "  13 - campaign: number of contacts performed during this campaign and for this client (numeric, includes last contact)\n",
    "  14 - pdays: number of days that passed by after the client was last contacted from a previous campaign (numeric, -1 means client was not previously contacted)\n",
    "  15 - previous: number of contacts performed before this campaign and for this client (numeric)\n",
    "  16 - poutcome: outcome of the previous marketing campaign (categorical: \"unknown\",\"other\",\"failure\",\"success\")\n",
    "\n",
    "# Output variable (desired target):\n",
    "  17 - y - has the client subscribed a term deposit? (binary: \"yes\",\"no\")"
   ]
  },
  {
   "cell_type": "markdown",
   "metadata": {
    "id": "eqEXp6xA0eJ6"
   },
   "source": [
    "Dataset Citation:\n",
    "\n",
    "[Moro et al., 2011] S. Moro, R. Laureano and P. Cortez. Using Data Mining for Bank Direct Marketing: An Application of the CRISP-DM Methodology. In P. Novais et al. (Eds.), Proceedings of the European Simulation and Modelling Conference - ESM'2011, pp. 117-121, Guimarães, Portugal, October, 2011. EUROSIS.\n",
    "\n",
    "Available at: [pdf] http://hdl.handle.net/1822/14838 [bib] http://www3.dsi.uminho.pt/pcortez/bib/2011-esm-1.txt"
   ]
  },
  {
   "cell_type": "code",
   "execution_count": null,
   "metadata": {
    "id": "2-tBvLZEw6V4"
   },
   "outputs": [],
   "source": [
    "import os\n",
    "import numpy as np\n",
    "import pandas as pd\n",
    "from statsmodels.discrete.discrete_model import Logit\n",
    "from scipy.special import logit\n",
    "import statsmodels.formula.api as sm\n",
    "import matplotlib as mpl\n",
    "import matplotlib.pyplot as plt\n",
    "pd.core.common.is_list_like = pd.api.types.is_list_like\n",
    "import datetime\n",
    "import seaborn as sns\n",
    "import warnings\n",
    "import io\n",
    "\n",
    "np.random.seed(12345)\n",
    "plt.rc('figure', figsize=(20, 10))\n",
    "PREVIOUS_MAX_ROWS = pd.options.display.max_rows\n",
    "pd.options.display.max_rows = 20\n",
    "np.set_printoptions(precision=4, suppress=True)\n",
    "warnings.filterwarnings(\"ignore\")\n",
    "\n",
    "# Our temporal data types\n",
    "from datetime import datetime\n",
    "from datetime import timedelta\n",
    "\n",
    "# For grabbing data sets\n",
    "import requests\n",
    "\n",
    "# For hiding code blocks, as they aren't necessary at this point\n",
    "from IPython.display import HTML\n",
    "\n",
    "#os.chdir('C:/Users/llee/Documents/Hard Drive/Personal Documents/Data Science Certificate/Data Science 2 - Statistics/Group Project') \n",
    "# where I saved the csv data file"
   ]
  },
  {
   "cell_type": "code",
   "execution_count": null,
   "metadata": {
    "colab": {
     "base_uri": "https://localhost:8080/",
     "height": 72,
     "resources": {
      "http://localhost:8080/nbextensions/google.colab/files.js": {
       "data": "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",
       "headers": [
        [
         "content-type",
         "application/javascript"
        ]
       ],
       "ok": true,
       "status": 200,
       "status_text": ""
      }
     }
    },
    "id": "SVVYh8-syvqm",
    "outputId": "61fa28ca-57c4-40ab-8d04-ae5cc9921f7a"
   },
   "outputs": [
    {
     "data": {
      "text/html": [
       "\n",
       "     <input type=\"file\" id=\"files-18cb82f9-7e1f-443f-8a19-4f97c96004c9\" name=\"files[]\" multiple disabled\n",
       "        style=\"border:none\" />\n",
       "     <output id=\"result-18cb82f9-7e1f-443f-8a19-4f97c96004c9\">\n",
       "      Upload widget is only available when the cell has been executed in the\n",
       "      current browser session. Please rerun this cell to enable.\n",
       "      </output>\n",
       "      <script src=\"/nbextensions/google.colab/files.js\"></script> "
      ],
      "text/plain": [
       "<IPython.core.display.HTML object>"
      ]
     },
     "metadata": {
      "tags": []
     },
     "output_type": "display_data"
    },
    {
     "name": "stdout",
     "output_type": "stream",
     "text": [
      "Saving bank-full.csv to bank-full.csv\n"
     ]
    }
   ],
   "source": [
    "from google.colab import files\n",
    "uploaded = files.upload()"
   ]
  },
  {
   "cell_type": "markdown",
   "metadata": {
    "id": "DTvnlXzvtqOq"
   },
   "source": [
    "# Data Preparation Section"
   ]
  },
  {
   "cell_type": "code",
   "execution_count": null,
   "metadata": {
    "colab": {
     "base_uri": "https://localhost:8080/",
     "height": 184
    },
    "id": "g5-ad5kZw6V6",
    "outputId": "e23df7ca-d210-4796-d419-8fe9f9a502dc"
   },
   "outputs": [
    {
     "ename": "NameError",
     "evalue": "ignored",
     "output_type": "error",
     "traceback": [
      "\u001b[0;31m---------------------------------------------------------------------------\u001b[0m",
      "\u001b[0;31mNameError\u001b[0m                                 Traceback (most recent call last)",
      "\u001b[0;32m<ipython-input-5-10ece82460de>\u001b[0m in \u001b[0;36m<module>\u001b[0;34m()\u001b[0m\n\u001b[0;32m----> 1\u001b[0;31m \u001b[0mdf\u001b[0m \u001b[0;34m=\u001b[0m \u001b[0mpd\u001b[0m\u001b[0;34m.\u001b[0m\u001b[0mread_csv\u001b[0m\u001b[0;34m(\u001b[0m\u001b[0mio\u001b[0m\u001b[0;34m.\u001b[0m\u001b[0mBytesIO\u001b[0m\u001b[0;34m(\u001b[0m\u001b[0muploaded\u001b[0m\u001b[0;34m[\u001b[0m\u001b[0;34m'bank-full.csv'\u001b[0m\u001b[0;34m]\u001b[0m\u001b[0;34m)\u001b[0m\u001b[0;34m,\u001b[0m \u001b[0msep\u001b[0m \u001b[0;34m=\u001b[0m \u001b[0;34m';'\u001b[0m\u001b[0;34m)\u001b[0m\u001b[0;34m\u001b[0m\u001b[0;34m\u001b[0m\u001b[0m\n\u001b[0m\u001b[1;32m      2\u001b[0m \u001b[0mdf\u001b[0m\u001b[0;34m.\u001b[0m\u001b[0mhead\u001b[0m\u001b[0;34m(\u001b[0m\u001b[0;34m)\u001b[0m\u001b[0;34m\u001b[0m\u001b[0;34m\u001b[0m\u001b[0m\n",
      "\u001b[0;31mNameError\u001b[0m: name 'uploaded' is not defined"
     ]
    }
   ],
   "source": [
    "df = pd.read_csv(io.BytesIO(uploaded['bank-full.csv']), sep = ';')\n",
    "df.head()"
   ]
  },
  {
   "cell_type": "code",
   "execution_count": null,
   "metadata": {
    "id": "6ibHN0G3pHgp"
   },
   "outputs": [],
   "source": [
    "# Adding fields (type category) for yes/no fields.\n",
    "df.y.astype('category').cat.codes\n",
    "df['purchased_loan'] = df.y.astype('category').cat.codes\n",
    "df['default_cat'] = df.default.astype('category').cat.codes\n",
    "df['housing_cat'] = df.housing.astype('category').cat.codes\n",
    "df['loan_cat'] = df.loan.astype('category').cat.codes\n",
    "df['job_cat'] = df.job.astype('category').cat.codes\n",
    "df['marital_cat'] = df.marital.astype('category').cat.codes\n",
    "df['education_cat'] = df.education.astype('category').cat.codes\n"
   ]
  },
  {
   "cell_type": "code",
   "execution_count": null,
   "metadata": {
    "id": "Hn6OQyX2qNN_"
   },
   "outputs": [],
   "source": [
    "# Transform data by adding bins for Age -- Mean : 41\n",
    "bins = [0, 20, 30, 40, 50, 60, 70, 100]\n",
    "age_bins = pd.cut(df['age'], bins, right=True, labels=None)\n",
    "df['age_bin'] = age_bins"
   ]
  },
  {
   "cell_type": "code",
   "execution_count": null,
   "metadata": {
    "id": "nc0F5b3Cqa3X"
   },
   "outputs": [],
   "source": [
    "# Pedro\n",
    "# Transform data by adding bins for balance. Mean : 1362, Min : -8019, Max : 102127\n",
    "# bins = [-20000, 0, 1000, 5000, 20000, 50000, 100000, 1000000]\n",
    "bins = [-20, 0, 1, 5, 20, 50, 100, 1000]\n",
    "balance_bins = pd.cut(df['balance']/1000, bins, right=True, labels=None)\n",
    "df['balance_bin'] = balance_bins"
   ]
  },
  {
   "cell_type": "code",
   "execution_count": null,
   "metadata": {
    "id": "j4bHWybjqqvG"
   },
   "outputs": [],
   "source": [
    "# Transform data by adding bins for duration (sec.) Mean : 258, Min : 0, Max : 4918\n",
    "# bins = [0, 60, 120, 180, 240, 300, 360]\n",
    "bins = [0, 60, 120, 180, 240, 300, 360, 5000]\n",
    "duration_bins = pd.cut(df['duration'], bins, right=True, labels=None)\n",
    "df['duration_bin'] = duration_bins"
   ]
  },
  {
   "cell_type": "code",
   "execution_count": null,
   "metadata": {
    "colab": {
     "base_uri": "https://localhost:8080/"
    },
    "id": "gcgHZ8jUnrYW",
    "outputId": "4b680ba2-e08a-4553-d47d-8ded22c69b7f"
   },
   "outputs": [
    {
     "data": {
      "text/plain": [
       "no     5289\n",
       "yes    5289\n",
       "Name: y, dtype: int64"
      ]
     },
     "execution_count": 10,
     "metadata": {
      "tags": []
     },
     "output_type": "execute_result"
    }
   ],
   "source": [
    "# Create balanced (unbiased) dataset\n",
    "df_bank_marketing_yes = df[df['y'] == 'yes']\n",
    "df_bank_marketing_no = df[df['y'] == 'no'].sample(n=len(df_bank_marketing_yes))\n",
    "df_bank_marketing_balanced = pd.concat([df_bank_marketing_yes, df_bank_marketing_no])\n",
    "df_bank_marketing_balanced = df_bank_marketing_balanced.sample(frac=1).reset_index(drop=True)\n",
    "df_bank_marketing_balanced['y'].value_counts()"
   ]
  },
  {
   "cell_type": "code",
   "execution_count": null,
   "metadata": {
    "colab": {
     "base_uri": "https://localhost:8080/"
    },
    "id": "sFhga28gw6WC",
    "outputId": "aa4a5659-91ec-406d-96d9-641e8ea72fbf"
   },
   "outputs": [
    {
     "data": {
      "text/plain": [
       "array(['no', 'yes'], dtype=object)"
      ]
     },
     "execution_count": 11,
     "metadata": {
      "tags": []
     },
     "output_type": "execute_result"
    }
   ],
   "source": [
    "df['y'].unique()"
   ]
  },
  {
   "cell_type": "code",
   "execution_count": null,
   "metadata": {
    "colab": {
     "base_uri": "https://localhost:8080/"
    },
    "id": "BITjzLsaw6WC",
    "outputId": "9a17a93b-eb78-4d24-e80e-8591a96c1452"
   },
   "outputs": [
    {
     "data": {
      "text/plain": [
       "array([0, 1])"
      ]
     },
     "execution_count": 12,
     "metadata": {
      "tags": []
     },
     "output_type": "execute_result"
    }
   ],
   "source": [
    "df['y'] = df['y'].replace('yes',1).replace('no',0)\n",
    "df['y'].unique()"
   ]
  },
  {
   "cell_type": "code",
   "execution_count": null,
   "metadata": {
    "colab": {
     "base_uri": "https://localhost:8080/"
    },
    "id": "O4cNsCLYw6WD",
    "outputId": "608af23f-5a9d-4df0-acb4-d3e285be00ab"
   },
   "outputs": [
    {
     "data": {
      "text/plain": [
       "array(['married', 'single', 'divorced'], dtype=object)"
      ]
     },
     "execution_count": 13,
     "metadata": {
      "tags": []
     },
     "output_type": "execute_result"
    }
   ],
   "source": [
    "df['marital'].unique()"
   ]
  },
  {
   "cell_type": "code",
   "execution_count": null,
   "metadata": {
    "colab": {
     "base_uri": "https://localhost:8080/"
    },
    "id": "AMnyv08kw6WE",
    "outputId": "217c902e-17dd-4d4e-c668-725bf70f5230"
   },
   "outputs": [
    {
     "data": {
      "text/plain": [
       "array([2, 1, 0])"
      ]
     },
     "execution_count": 14,
     "metadata": {
      "tags": []
     },
     "output_type": "execute_result"
    }
   ],
   "source": [
    "df['marital'] = df['marital'].replace('divorced',0).replace('single',1).replace('married',2)\n",
    "df['marital'].unique()"
   ]
  },
  {
   "cell_type": "code",
   "execution_count": null,
   "metadata": {
    "colab": {
     "base_uri": "https://localhost:8080/"
    },
    "id": "itUIdgK_w6WF",
    "outputId": "5525da27-9511-4229-dccc-7efd2d83206d"
   },
   "outputs": [
    {
     "data": {
      "text/plain": [
       "array(['yes', 'no'], dtype=object)"
      ]
     },
     "execution_count": 15,
     "metadata": {
      "tags": []
     },
     "output_type": "execute_result"
    }
   ],
   "source": [
    "df['housing'].unique()"
   ]
  },
  {
   "cell_type": "code",
   "execution_count": null,
   "metadata": {
    "colab": {
     "base_uri": "https://localhost:8080/"
    },
    "id": "ggaOaWD-w6WF",
    "outputId": "99b75e04-b161-4b2e-9014-657eaa56111f"
   },
   "outputs": [
    {
     "data": {
      "text/plain": [
       "array([1, 0])"
      ]
     },
     "execution_count": 16,
     "metadata": {
      "tags": []
     },
     "output_type": "execute_result"
    }
   ],
   "source": [
    "df['housing'] = df['housing'].replace('yes',1).replace('no',0)\n",
    "df['housing'].unique()"
   ]
  },
  {
   "cell_type": "code",
   "execution_count": null,
   "metadata": {
    "colab": {
     "base_uri": "https://localhost:8080/"
    },
    "id": "JMzEcqiRw6WG",
    "outputId": "21e33bec-ac61-4928-cd62-c07753117505"
   },
   "outputs": [
    {
     "data": {
      "text/plain": [
       "array(['tertiary', 'secondary', 'unknown', 'primary'], dtype=object)"
      ]
     },
     "execution_count": 17,
     "metadata": {
      "tags": []
     },
     "output_type": "execute_result"
    }
   ],
   "source": [
    "df['education'].unique()"
   ]
  },
  {
   "cell_type": "code",
   "execution_count": null,
   "metadata": {
    "colab": {
     "base_uri": "https://localhost:8080/"
    },
    "id": "jXXIybIqw6WH",
    "outputId": "0a1db7df-57ec-40a9-b355-42308920e797"
   },
   "outputs": [
    {
     "data": {
      "text/plain": [
       "array([3, 2, 0, 1])"
      ]
     },
     "execution_count": 18,
     "metadata": {
      "tags": []
     },
     "output_type": "execute_result"
    }
   ],
   "source": [
    "df['education'] = df['education'].replace('tertiary',3).replace('secondary',2).replace('primary',1).replace('unknown',0)\n",
    "df['education'].unique()"
   ]
  },
  {
   "cell_type": "code",
   "execution_count": null,
   "metadata": {
    "colab": {
     "base_uri": "https://localhost:8080/"
    },
    "id": "OO1ie7gcw6WH",
    "outputId": "c99aea1e-9b9e-418a-e582-b64bbaa2448b"
   },
   "outputs": [
    {
     "data": {
      "text/plain": [
       "array(['no', 'yes'], dtype=object)"
      ]
     },
     "execution_count": 19,
     "metadata": {
      "tags": []
     },
     "output_type": "execute_result"
    }
   ],
   "source": [
    "df['loan'].unique()"
   ]
  },
  {
   "cell_type": "code",
   "execution_count": null,
   "metadata": {
    "colab": {
     "base_uri": "https://localhost:8080/"
    },
    "id": "E67vY0pCw6WH",
    "outputId": "14aa004f-0442-42fb-ea06-a172f83fb995"
   },
   "outputs": [
    {
     "data": {
      "text/plain": [
       "array([0, 1])"
      ]
     },
     "execution_count": 20,
     "metadata": {
      "tags": []
     },
     "output_type": "execute_result"
    }
   ],
   "source": [
    "df['loan'] = df['loan'].replace('yes',1).replace('no',0)\n",
    "df['loan'].unique()"
   ]
  },
  {
   "cell_type": "code",
   "execution_count": null,
   "metadata": {
    "colab": {
     "base_uri": "https://localhost:8080/"
    },
    "id": "XUE4Iz8_w6WI",
    "outputId": "6622e3dd-bb05-47f8-bf62-ac42dc87d959"
   },
   "outputs": [
    {
     "data": {
      "text/plain": [
       "array(['no', 'yes'], dtype=object)"
      ]
     },
     "execution_count": 21,
     "metadata": {
      "tags": []
     },
     "output_type": "execute_result"
    }
   ],
   "source": [
    "df['default'].unique()"
   ]
  },
  {
   "cell_type": "code",
   "execution_count": null,
   "metadata": {
    "colab": {
     "base_uri": "https://localhost:8080/"
    },
    "id": "dn5VM67Lw6WI",
    "outputId": "84ce860a-43a5-4f9d-d042-46eb49733406"
   },
   "outputs": [
    {
     "data": {
      "text/plain": [
       "array([0, 1])"
      ]
     },
     "execution_count": 22,
     "metadata": {
      "tags": []
     },
     "output_type": "execute_result"
    }
   ],
   "source": [
    "df['default'] = df['default'].replace('yes',1).replace('no',0)\n",
    "df['default'].unique()"
   ]
  },
  {
   "cell_type": "markdown",
   "metadata": {
    "id": "LZPLo1N4qcd-"
   },
   "source": [
    "# Descriptive Statistics Section"
   ]
  },
  {
   "cell_type": "code",
   "execution_count": null,
   "metadata": {
    "colab": {
     "base_uri": "https://localhost:8080/",
     "height": 486
    },
    "id": "ZkOjQU-Yw6WJ",
    "outputId": "2104b482-3d75-46fe-e183-f56eefbbbab9"
   },
   "outputs": [
    {
     "data": {
      "image/png": "[encoded data removed]",
      "text/plain": [
       "<Figure size 1440x720 with 1 Axes>"
      ]
     },
     "metadata": {
      "needs_background": "light",
      "tags": []
     },
     "output_type": "display_data"
    }
   ],
   "source": [
    "sns.countplot(df['y']);"
   ]
  },
  {
   "cell_type": "code",
   "execution_count": null,
   "metadata": {
    "colab": {
     "base_uri": "https://localhost:8080/",
     "height": 486
    },
    "id": "ew1abIZDw6WJ",
    "outputId": "d6952006-dacb-4034-f6b2-ebca13a6907e"
   },
   "outputs": [
    {
     "data": {
      "image/png": "[encoded data removed]",
      "text/plain": [
       "<Figure size 1440x720 with 1 Axes>"
      ]
     },
     "metadata": {
      "needs_background": "light",
      "tags": []
     },
     "output_type": "display_data"
    }
   ],
   "source": [
    "sns.countplot(df['poutcome']);"
   ]
  },
  {
   "cell_type": "code",
   "execution_count": null,
   "metadata": {
    "colab": {
     "base_uri": "https://localhost:8080/",
     "height": 173
    },
    "id": "7fdta3Pww6WJ",
    "outputId": "0f8e31e6-1b3d-47a8-fe5e-2a1048c6fbc8"
   },
   "outputs": [
    {
     "data": {
      "text/html": [
       "<div>\n",
       "<style scoped>\n",
       "    .dataframe tbody tr th:only-of-type {\n",
       "        vertical-align: middle;\n",
       "    }\n",
       "\n",
       "    .dataframe tbody tr th {\n",
       "        vertical-align: top;\n",
       "    }\n",
       "\n",
       "    .dataframe thead th {\n",
       "        text-align: right;\n",
       "    }\n",
       "</style>\n",
       "<table border=\"1\" class=\"dataframe\">\n",
       "  <thead>\n",
       "    <tr style=\"text-align: right;\">\n",
       "      <th>poutcome</th>\n",
       "      <th>failure</th>\n",
       "      <th>other</th>\n",
       "      <th>success</th>\n",
       "      <th>unknown</th>\n",
       "      <th>All</th>\n",
       "    </tr>\n",
       "    <tr>\n",
       "      <th>y</th>\n",
       "      <th></th>\n",
       "      <th></th>\n",
       "      <th></th>\n",
       "      <th></th>\n",
       "      <th></th>\n",
       "    </tr>\n",
       "  </thead>\n",
       "  <tbody>\n",
       "    <tr>\n",
       "      <th>0</th>\n",
       "      <td>87.4</td>\n",
       "      <td>83.3</td>\n",
       "      <td>35.3</td>\n",
       "      <td>90.8</td>\n",
       "      <td>88.3</td>\n",
       "    </tr>\n",
       "    <tr>\n",
       "      <th>1</th>\n",
       "      <td>12.6</td>\n",
       "      <td>16.7</td>\n",
       "      <td>64.7</td>\n",
       "      <td>9.2</td>\n",
       "      <td>11.7</td>\n",
       "    </tr>\n",
       "    <tr>\n",
       "      <th>All</th>\n",
       "      <td>100.0</td>\n",
       "      <td>100.0</td>\n",
       "      <td>100.0</td>\n",
       "      <td>100.0</td>\n",
       "      <td>100.0</td>\n",
       "    </tr>\n",
       "  </tbody>\n",
       "</table>\n",
       "</div>"
      ],
      "text/plain": [
       "poutcome  failure  other  success  unknown    All\n",
       "y                                                \n",
       "0            87.4   83.3     35.3     90.8   88.3\n",
       "1            12.6   16.7     64.7      9.2   11.7\n",
       "All         100.0  100.0    100.0    100.0  100.0"
      ]
     },
     "execution_count": 25,
     "metadata": {
      "tags": []
     },
     "output_type": "execute_result"
    }
   ],
   "source": [
    "y_poutcome = pd.crosstab(df['y'],df['poutcome'], margins = True)\n",
    "(y_poutcome/y_poutcome.loc['All']*100).round(1)"
   ]
  },
  {
   "cell_type": "code",
   "execution_count": null,
   "metadata": {
    "colab": {
     "base_uri": "https://localhost:8080/",
     "height": 497
    },
    "id": "Sb2aqpHZw6WK",
    "outputId": "2b1fbb5a-746f-472c-c294-f4d5d53a6861"
   },
   "outputs": [
    {
     "data": {
      "image/png": "[encoded data removed]",
      "text/plain": [
       "<Figure size 1440x720 with 1 Axes>"
      ]
     },
     "metadata": {
      "needs_background": "light",
      "tags": []
     },
     "output_type": "display_data"
    }
   ],
   "source": [
    "y_poutcome = pd.crosstab(df['y'],df['poutcome'], normalize = 'columns')\n",
    "y_poutcome.plot(kind = 'bar', stacked = False, rot = 0);"
   ]
  },
  {
   "cell_type": "code",
   "execution_count": null,
   "metadata": {
    "colab": {
     "base_uri": "https://localhost:8080/",
     "height": 486
    },
    "id": "3T2bRyd5w6WK",
    "outputId": "981bb046-890f-4128-e7dd-eecc60aeff24"
   },
   "outputs": [
    {
     "data": {
      "image/png": "[encoded data removed]",
      "text/plain": [
       "<Figure size 1440x720 with 1 Axes>"
      ]
     },
     "metadata": {
      "needs_background": "light",
      "tags": []
     },
     "output_type": "display_data"
    }
   ],
   "source": [
    "plt.rc('figure', figsize=(20, 10))\n",
    "sns.countplot(df['job']);"
   ]
  },
  {
   "cell_type": "code",
   "execution_count": null,
   "metadata": {
    "colab": {
     "base_uri": "https://localhost:8080/"
    },
    "id": "-PJUBRb4w6WL",
    "outputId": "a338e64e-4113-4ce5-8aa4-6dcfdb0d9423"
   },
   "outputs": [
    {
     "data": {
      "text/plain": [
       "array(['may', 'jun', 'jul', 'aug', 'oct', 'nov', 'dec', 'jan', 'feb',\n",
       "       'mar', 'apr', 'sep'], dtype=object)"
      ]
     },
     "execution_count": 28,
     "metadata": {
      "tags": []
     },
     "output_type": "execute_result"
    }
   ],
   "source": [
    "df['month'].unique()"
   ]
  },
  {
   "cell_type": "code",
   "execution_count": null,
   "metadata": {
    "id": "tlXfLLK6w6WL"
   },
   "outputs": [],
   "source": [
    "df['month'] = df['month'].replace('jan',1).replace('feb',2).replace('mar',3).replace('apr',4)\\\n",
    "                         .replace('may',5).replace('jun',6).replace('jul',7).replace('aug',8).replace('sep',9)\\\n",
    "                         .replace('oct',10).replace('nov',11).replace('dec',12)"
   ]
  },
  {
   "cell_type": "code",
   "execution_count": null,
   "metadata": {
    "colab": {
     "base_uri": "https://localhost:8080/",
     "height": 486
    },
    "id": "MCpHrrdBw6WL",
    "outputId": "185ccf2c-fb85-4ca6-a496-30bfad1f0919"
   },
   "outputs": [
    {
     "data": {
      "image/png": "[encoded data removed]",
      "text/plain": [
       "<Figure size 1440x720 with 1 Axes>"
      ]
     },
     "metadata": {
      "needs_background": "light",
      "tags": []
     },
     "output_type": "display_data"
    }
   ],
   "source": [
    "plt.rc('figure', figsize=(20, 10))\n",
    "sns.countplot(df['month']);"
   ]
  },
  {
   "cell_type": "code",
   "execution_count": null,
   "metadata": {
    "colab": {
     "base_uri": "https://localhost:8080/",
     "height": 488
    },
    "id": "vOeiAyq1w6WL",
    "outputId": "2bdb0249-9c95-4261-8d39-b0a3356b3a53"
   },
   "outputs": [
    {
     "data": {
      "image/png": "[encoded data removed]",
      "text/plain": [
       "<Figure size 1440x720 with 1 Axes>"
      ]
     },
     "metadata": {
      "needs_background": "light",
      "tags": []
     },
     "output_type": "display_data"
    }
   ],
   "source": [
    "sns.countplot(df['day']);"
   ]
  },
  {
   "cell_type": "code",
   "execution_count": null,
   "metadata": {
    "colab": {
     "base_uri": "https://localhost:8080/",
     "height": 486
    },
    "id": "0nhs8fevw6WM",
    "outputId": "e493ca88-56db-4594-b637-636193c42a96"
   },
   "outputs": [
    {
     "data": {
      "image/png": "[encoded data removed]",
      "text/plain": [
       "<Figure size 1440x720 with 1 Axes>"
      ]
     },
     "metadata": {
      "needs_background": "light",
      "tags": []
     },
     "output_type": "display_data"
    }
   ],
   "source": [
    "sns.countplot(df['contact']);"
   ]
  },
  {
   "cell_type": "code",
   "execution_count": null,
   "metadata": {
    "colab": {
     "base_uri": "https://localhost:8080/",
     "height": 173
    },
    "id": "tB34z7jNw6WM",
    "outputId": "45d12efa-e6ba-4240-d894-11191a155cbf"
   },
   "outputs": [
    {
     "data": {
      "text/html": [
       "<div>\n",
       "<style scoped>\n",
       "    .dataframe tbody tr th:only-of-type {\n",
       "        vertical-align: middle;\n",
       "    }\n",
       "\n",
       "    .dataframe tbody tr th {\n",
       "        vertical-align: top;\n",
       "    }\n",
       "\n",
       "    .dataframe thead th {\n",
       "        text-align: right;\n",
       "    }\n",
       "</style>\n",
       "<table border=\"1\" class=\"dataframe\">\n",
       "  <thead>\n",
       "    <tr style=\"text-align: right;\">\n",
       "      <th>contact</th>\n",
       "      <th>cellular</th>\n",
       "      <th>telephone</th>\n",
       "      <th>unknown</th>\n",
       "      <th>All</th>\n",
       "    </tr>\n",
       "    <tr>\n",
       "      <th>y</th>\n",
       "      <th></th>\n",
       "      <th></th>\n",
       "      <th></th>\n",
       "      <th></th>\n",
       "    </tr>\n",
       "  </thead>\n",
       "  <tbody>\n",
       "    <tr>\n",
       "      <th>0</th>\n",
       "      <td>85.1</td>\n",
       "      <td>86.6</td>\n",
       "      <td>95.9</td>\n",
       "      <td>88.3</td>\n",
       "    </tr>\n",
       "    <tr>\n",
       "      <th>1</th>\n",
       "      <td>14.9</td>\n",
       "      <td>13.4</td>\n",
       "      <td>4.1</td>\n",
       "      <td>11.7</td>\n",
       "    </tr>\n",
       "    <tr>\n",
       "      <th>All</th>\n",
       "      <td>100.0</td>\n",
       "      <td>100.0</td>\n",
       "      <td>100.0</td>\n",
       "      <td>100.0</td>\n",
       "    </tr>\n",
       "  </tbody>\n",
       "</table>\n",
       "</div>"
      ],
      "text/plain": [
       "contact  cellular  telephone  unknown    All\n",
       "y                                           \n",
       "0            85.1       86.6     95.9   88.3\n",
       "1            14.9       13.4      4.1   11.7\n",
       "All         100.0      100.0    100.0  100.0"
      ]
     },
     "execution_count": 33,
     "metadata": {
      "tags": []
     },
     "output_type": "execute_result"
    }
   ],
   "source": [
    "y_contact = pd.crosstab(df['y'],df['contact'], margins = True)\n",
    "(y_contact/y_contact.loc['All']*100).round(1)"
   ]
  },
  {
   "cell_type": "code",
   "execution_count": null,
   "metadata": {
    "colab": {
     "base_uri": "https://localhost:8080/",
     "height": 497
    },
    "id": "WuYcF7MLw6WM",
    "outputId": "0a21226a-2022-4698-bca7-09665a989775"
   },
   "outputs": [
    {
     "data": {
      "image/png": "[encoded data removed]",
      "text/plain": [
       "<Figure size 1440x720 with 1 Axes>"
      ]
     },
     "metadata": {
      "needs_background": "light",
      "tags": []
     },
     "output_type": "display_data"
    }
   ],
   "source": [
    "y_contact = pd.crosstab(df['y'],df['contact'], normalize = 'columns')\n",
    "y_contact.plot(kind = 'bar', stacked = False, rot = 0);"
   ]
  },
  {
   "cell_type": "code",
   "execution_count": null,
   "metadata": {
    "colab": {
     "base_uri": "https://localhost:8080/",
     "height": 173
    },
    "id": "q3kRRan1w6WM",
    "outputId": "83593f80-b4b9-46f3-ea1a-b1057cb32cf2"
   },
   "outputs": [
    {
     "data": {
      "text/html": [
       "<div>\n",
       "<style scoped>\n",
       "    .dataframe tbody tr th:only-of-type {\n",
       "        vertical-align: middle;\n",
       "    }\n",
       "\n",
       "    .dataframe tbody tr th {\n",
       "        vertical-align: top;\n",
       "    }\n",
       "\n",
       "    .dataframe thead th {\n",
       "        text-align: right;\n",
       "    }\n",
       "</style>\n",
       "<table border=\"1\" class=\"dataframe\">\n",
       "  <thead>\n",
       "    <tr style=\"text-align: right;\">\n",
       "      <th>month</th>\n",
       "      <th>1</th>\n",
       "      <th>2</th>\n",
       "      <th>3</th>\n",
       "      <th>4</th>\n",
       "      <th>5</th>\n",
       "      <th>6</th>\n",
       "      <th>7</th>\n",
       "      <th>8</th>\n",
       "      <th>9</th>\n",
       "      <th>10</th>\n",
       "      <th>11</th>\n",
       "      <th>12</th>\n",
       "      <th>All</th>\n",
       "    </tr>\n",
       "    <tr>\n",
       "      <th>y</th>\n",
       "      <th></th>\n",
       "      <th></th>\n",
       "      <th></th>\n",
       "      <th></th>\n",
       "      <th></th>\n",
       "      <th></th>\n",
       "      <th></th>\n",
       "      <th></th>\n",
       "      <th></th>\n",
       "      <th></th>\n",
       "      <th></th>\n",
       "      <th></th>\n",
       "      <th></th>\n",
       "    </tr>\n",
       "  </thead>\n",
       "  <tbody>\n",
       "    <tr>\n",
       "      <th>0</th>\n",
       "      <td>89.9</td>\n",
       "      <td>83.4</td>\n",
       "      <td>48.0</td>\n",
       "      <td>80.3</td>\n",
       "      <td>93.3</td>\n",
       "      <td>89.8</td>\n",
       "      <td>90.9</td>\n",
       "      <td>89.0</td>\n",
       "      <td>53.5</td>\n",
       "      <td>56.2</td>\n",
       "      <td>89.8</td>\n",
       "      <td>53.3</td>\n",
       "      <td>88.3</td>\n",
       "    </tr>\n",
       "    <tr>\n",
       "      <th>1</th>\n",
       "      <td>10.1</td>\n",
       "      <td>16.6</td>\n",
       "      <td>52.0</td>\n",
       "      <td>19.7</td>\n",
       "      <td>6.7</td>\n",
       "      <td>10.2</td>\n",
       "      <td>9.1</td>\n",
       "      <td>11.0</td>\n",
       "      <td>46.5</td>\n",
       "      <td>43.8</td>\n",
       "      <td>10.2</td>\n",
       "      <td>46.7</td>\n",
       "      <td>11.7</td>\n",
       "    </tr>\n",
       "    <tr>\n",
       "      <th>All</th>\n",
       "      <td>100.0</td>\n",
       "      <td>100.0</td>\n",
       "      <td>100.0</td>\n",
       "      <td>100.0</td>\n",
       "      <td>100.0</td>\n",
       "      <td>100.0</td>\n",
       "      <td>100.0</td>\n",
       "      <td>100.0</td>\n",
       "      <td>100.0</td>\n",
       "      <td>100.0</td>\n",
       "      <td>100.0</td>\n",
       "      <td>100.0</td>\n",
       "      <td>100.0</td>\n",
       "    </tr>\n",
       "  </tbody>\n",
       "</table>\n",
       "</div>"
      ],
      "text/plain": [
       "month      1      2      3      4      5  ...      9     10     11     12    All\n",
       "y                                         ...                                   \n",
       "0       89.9   83.4   48.0   80.3   93.3  ...   53.5   56.2   89.8   53.3   88.3\n",
       "1       10.1   16.6   52.0   19.7    6.7  ...   46.5   43.8   10.2   46.7   11.7\n",
       "All    100.0  100.0  100.0  100.0  100.0  ...  100.0  100.0  100.0  100.0  100.0\n",
       "\n",
       "[3 rows x 13 columns]"
      ]
     },
     "execution_count": 35,
     "metadata": {
      "tags": []
     },
     "output_type": "execute_result"
    }
   ],
   "source": [
    "y_month = pd.crosstab(df['y'],df['month'], margins = True)\n",
    "(y_month/y_month.loc['All']*100).round(1)"
   ]
  },
  {
   "cell_type": "code",
   "execution_count": null,
   "metadata": {
    "colab": {
     "base_uri": "https://localhost:8080/",
     "height": 497
    },
    "id": "t32YRQoEw6WM",
    "outputId": "48ab52e3-8fd1-48b6-be8f-d38f53a96014"
   },
   "outputs": [
    {
     "data": {
      "image/png": "[encoded data removed]",
      "text/plain": [
       "<Figure size 1440x720 with 1 Axes>"
      ]
     },
     "metadata": {
      "needs_background": "light",
      "tags": []
     },
     "output_type": "display_data"
    }
   ],
   "source": [
    "y_month = pd.crosstab(df['y'],df['month'], normalize = 'columns')\n",
    "y_month.plot(kind = 'bar', stacked = False, rot = 0);"
   ]
  },
  {
   "cell_type": "code",
   "execution_count": null,
   "metadata": {
    "colab": {
     "base_uri": "https://localhost:8080/",
     "height": 266
    },
    "id": "G5XZtn1gw6WN",
    "outputId": "7b136813-211c-4710-b28c-6d3429c33a23"
   },
   "outputs": [
    {
     "data": {
      "text/html": [
       "<div>\n",
       "<style scoped>\n",
       "    .dataframe tbody tr th:only-of-type {\n",
       "        vertical-align: middle;\n",
       "    }\n",
       "\n",
       "    .dataframe tbody tr th {\n",
       "        vertical-align: top;\n",
       "    }\n",
       "\n",
       "    .dataframe thead th {\n",
       "        text-align: right;\n",
       "    }\n",
       "</style>\n",
       "<table border=\"1\" class=\"dataframe\">\n",
       "  <thead>\n",
       "    <tr style=\"text-align: right;\">\n",
       "      <th></th>\n",
       "      <th>loan</th>\n",
       "      <th>0</th>\n",
       "      <th>1</th>\n",
       "    </tr>\n",
       "    <tr>\n",
       "      <th>y</th>\n",
       "      <th>contact</th>\n",
       "      <th></th>\n",
       "      <th></th>\n",
       "    </tr>\n",
       "  </thead>\n",
       "  <tbody>\n",
       "    <tr>\n",
       "      <th rowspan=\"3\" valign=\"top\">0</th>\n",
       "      <th>cellular</th>\n",
       "      <td>54.0</td>\n",
       "      <td>60.9</td>\n",
       "    </tr>\n",
       "    <tr>\n",
       "      <th>telephone</th>\n",
       "      <td>5.6</td>\n",
       "      <td>5.3</td>\n",
       "    </tr>\n",
       "    <tr>\n",
       "      <th>unknown</th>\n",
       "      <td>27.7</td>\n",
       "      <td>27.1</td>\n",
       "    </tr>\n",
       "    <tr>\n",
       "      <th rowspan=\"3\" valign=\"top\">1</th>\n",
       "      <th>cellular</th>\n",
       "      <td>10.5</td>\n",
       "      <td>5.4</td>\n",
       "    </tr>\n",
       "    <tr>\n",
       "      <th>telephone</th>\n",
       "      <td>1.0</td>\n",
       "      <td>0.4</td>\n",
       "    </tr>\n",
       "    <tr>\n",
       "      <th>unknown</th>\n",
       "      <td>1.2</td>\n",
       "      <td>1.0</td>\n",
       "    </tr>\n",
       "  </tbody>\n",
       "</table>\n",
       "</div>"
      ],
      "text/plain": [
       "loan            0     1\n",
       "y contact              \n",
       "0 cellular   54.0  60.9\n",
       "  telephone   5.6   5.3\n",
       "  unknown    27.7  27.1\n",
       "1 cellular   10.5   5.4\n",
       "  telephone   1.0   0.4\n",
       "  unknown     1.2   1.0"
      ]
     },
     "execution_count": 37,
     "metadata": {
      "tags": []
     },
     "output_type": "execute_result"
    }
   ],
   "source": [
    "y_by_loan_n_comm_type = (pd.crosstab(index = [df['y'],\n",
    "                                          df['contact']],\n",
    "                                 columns = df['loan'],\n",
    "                                 normalize = 'columns')*100).round(1)\n",
    "y_by_loan_n_comm_type"
   ]
  },
  {
   "cell_type": "code",
   "execution_count": null,
   "metadata": {
    "colab": {
     "base_uri": "https://localhost:8080/",
     "height": 499
    },
    "id": "Jvws9gS_w6WN",
    "outputId": "c30135f0-7f12-4121-a36a-6b793e12853e"
   },
   "outputs": [
    {
     "data": {
      "image/png": "[encoded data removed]",
      "text/plain": [
       "<Figure size 1440x720 with 1 Axes>"
      ]
     },
     "metadata": {
      "needs_background": "light",
      "tags": []
     },
     "output_type": "display_data"
    }
   ],
   "source": [
    "y_by_loan_n_comm_type = (pd.crosstab(index = [df['y'],\n",
    "                                          df['contact']],\n",
    "                                 columns = df['loan'],\n",
    "                                 normalize = 'columns')*100).round(1)\n",
    "y_by_loan_n_comm_type.plot(kind = 'bar', stacked = False, rot = 0);"
   ]
  },
  {
   "cell_type": "code",
   "execution_count": null,
   "metadata": {
    "colab": {
     "base_uri": "https://localhost:8080/",
     "height": 485
    },
    "id": "QyqieeXFw6WN",
    "outputId": "1946ec19-2c99-42da-c781-fe43dde3d7eb"
   },
   "outputs": [
    {
     "data": {
      "image/png": "[encoded data removed]",
      "text/plain": [
       "<Figure size 1440x720 with 1 Axes>"
      ]
     },
     "metadata": {
      "needs_background": "light",
      "tags": []
     },
     "output_type": "display_data"
    }
   ],
   "source": [
    "sns.distplot(df['duration']);"
   ]
  },
  {
   "cell_type": "code",
   "execution_count": null,
   "metadata": {
    "colab": {
     "base_uri": "https://localhost:8080/",
     "height": 497
    },
    "id": "iel517Vtw6WN",
    "outputId": "61501541-ff33-4776-e4e3-889d4a9d19e3"
   },
   "outputs": [
    {
     "data": {
      "image/png": "[encoded data removed]",
      "text/plain": [
       "<Figure size 1440x720 with 1 Axes>"
      ]
     },
     "metadata": {
      "needs_background": "light",
      "tags": []
     },
     "output_type": "display_data"
    }
   ],
   "source": [
    "y_job = pd.crosstab(df['y'],df['job'], normalize = 'columns')\n",
    "y_job.plot(kind = 'bar', stacked = False, rot = 0);"
   ]
  },
  {
   "cell_type": "code",
   "execution_count": null,
   "metadata": {
    "colab": {
     "base_uri": "https://localhost:8080/"
    },
    "id": "n1PgTujzw6WN",
    "outputId": "7507b5d0-e22b-4549-f9b5-9b47a89e7db9"
   },
   "outputs": [
    {
     "data": {
      "text/plain": [
       "array(['unknown', 'cellular', 'telephone'], dtype=object)"
      ]
     },
     "execution_count": 41,
     "metadata": {
      "tags": []
     },
     "output_type": "execute_result"
    }
   ],
   "source": [
    "df['contact'].unique()"
   ]
  },
  {
   "cell_type": "code",
   "execution_count": null,
   "metadata": {
    "colab": {
     "base_uri": "https://localhost:8080/"
    },
    "id": "_Et8xOK-w6WO",
    "outputId": "9f48f5a7-0b34-42ea-8274-13e01b8a8e1b"
   },
   "outputs": [
    {
     "data": {
      "text/plain": [
       "array([0, 1, 2])"
      ]
     },
     "execution_count": 42,
     "metadata": {
      "tags": []
     },
     "output_type": "execute_result"
    }
   ],
   "source": [
    "df['contact'] = df['contact'].replace('cellular',1).replace('unknown',0).replace('telephone',2)\n",
    "df['contact'].unique()"
   ]
  },
  {
   "cell_type": "code",
   "execution_count": null,
   "metadata": {
    "colab": {
     "base_uri": "https://localhost:8080/"
    },
    "id": "YDTJBzHEw6WO",
    "outputId": "3dd77ac7-9a57-41ea-b37e-2c824ac8c112"
   },
   "outputs": [
    {
     "name": "stdout",
     "output_type": "stream",
     "text": [
      "<class 'pandas.core.frame.DataFrame'>\n",
      "RangeIndex: 45211 entries, 0 to 45210\n",
      "Data columns (total 27 columns):\n",
      " #   Column          Non-Null Count  Dtype   \n",
      "---  ------          --------------  -----   \n",
      " 0   age             45211 non-null  int64   \n",
      " 1   job             45211 non-null  object  \n",
      " 2   marital         45211 non-null  int64   \n",
      " 3   education       45211 non-null  int64   \n",
      " 4   default         45211 non-null  int64   \n",
      " 5   balance         45211 non-null  int64   \n",
      " 6   housing         45211 non-null  int64   \n",
      " 7   loan            45211 non-null  int64   \n",
      " 8   contact         45211 non-null  int64   \n",
      " 9   day             45211 non-null  int64   \n",
      " 10  month           45211 non-null  int64   \n",
      " 11  duration        45211 non-null  int64   \n",
      " 12  campaign        45211 non-null  int64   \n",
      " 13  pdays           45211 non-null  int64   \n",
      " 14  previous        45211 non-null  int64   \n",
      " 15  poutcome        45211 non-null  object  \n",
      " 16  y               45211 non-null  int64   \n",
      " 17  purchased_loan  45211 non-null  int8    \n",
      " 18  default_cat     45211 non-null  int8    \n",
      " 19  housing_cat     45211 non-null  int8    \n",
      " 20  loan_cat        45211 non-null  int8    \n",
      " 21  job_cat         45211 non-null  int8    \n",
      " 22  marital_cat     45211 non-null  int8    \n",
      " 23  education_cat   45211 non-null  int8    \n",
      " 24  age_bin         45211 non-null  category\n",
      " 25  balance_bin     45211 non-null  category\n",
      " 26  duration_bin    45208 non-null  category\n",
      "dtypes: category(3), int64(15), int8(7), object(2)\n",
      "memory usage: 6.3+ MB\n"
     ]
    }
   ],
   "source": [
    "df.info()"
   ]
  },
  {
   "cell_type": "code",
   "execution_count": null,
   "metadata": {
    "colab": {
     "base_uri": "https://localhost:8080/",
     "height": 489
    },
    "id": "1qV51LIjw6WO",
    "outputId": "b2b24e26-2a57-40fd-b308-2c1b55ec3ac2"
   },
   "outputs": [
    {
     "data": {
      "image/png": "[encoded data removed]",
      "text/plain": [
       "<Figure size 1440x720 with 1 Axes>"
      ]
     },
     "metadata": {
      "needs_background": "light",
      "tags": []
     },
     "output_type": "display_data"
    }
   ],
   "source": [
    "sns.distplot(df['age']);"
   ]
  },
  {
   "cell_type": "code",
   "execution_count": null,
   "metadata": {
    "colab": {
     "base_uri": "https://localhost:8080/",
     "height": 775
    },
    "id": "ct86BaP0w6WP",
    "outputId": "ec8feb54-760c-4365-ada4-f9c900c04bf8"
   },
   "outputs": [
    {
     "data": {
      "image/png": "[encoded data removed]",
      "text/plain": [
       "<Figure size 1440x720 with 1 Axes>"
      ]
     },
     "metadata": {
      "needs_background": "light",
      "tags": []
     },
     "output_type": "display_data"
    },
    {
     "data": {
      "text/html": [
       "<div>\n",
       "<style scoped>\n",
       "    .dataframe tbody tr th:only-of-type {\n",
       "        vertical-align: middle;\n",
       "    }\n",
       "\n",
       "    .dataframe tbody tr th {\n",
       "        vertical-align: top;\n",
       "    }\n",
       "\n",
       "    .dataframe thead th {\n",
       "        text-align: right;\n",
       "    }\n",
       "</style>\n",
       "<table border=\"1\" class=\"dataframe\">\n",
       "  <thead>\n",
       "    <tr style=\"text-align: right;\">\n",
       "      <th></th>\n",
       "      <th>purchased_loan</th>\n",
       "      <th>per</th>\n",
       "    </tr>\n",
       "    <tr>\n",
       "      <th>age_bin</th>\n",
       "      <th></th>\n",
       "      <th></th>\n",
       "    </tr>\n",
       "  </thead>\n",
       "  <tbody>\n",
       "    <tr>\n",
       "      <th>(0, 20]</th>\n",
       "      <td>33.0</td>\n",
       "      <td>0.623936</td>\n",
       "    </tr>\n",
       "    <tr>\n",
       "      <th>(20, 30]</th>\n",
       "      <td>1112.0</td>\n",
       "      <td>21.024768</td>\n",
       "    </tr>\n",
       "    <tr>\n",
       "      <th>(30, 40]</th>\n",
       "      <td>1812.0</td>\n",
       "      <td>34.259784</td>\n",
       "    </tr>\n",
       "    <tr>\n",
       "      <th>(40, 50]</th>\n",
       "      <td>1019.0</td>\n",
       "      <td>19.266402</td>\n",
       "    </tr>\n",
       "    <tr>\n",
       "      <th>(50, 60]</th>\n",
       "      <td>811.0</td>\n",
       "      <td>15.333711</td>\n",
       "    </tr>\n",
       "    <tr>\n",
       "      <th>(60, 70]</th>\n",
       "      <td>284.0</td>\n",
       "      <td>5.369635</td>\n",
       "    </tr>\n",
       "    <tr>\n",
       "      <th>(70, 100]</th>\n",
       "      <td>218.0</td>\n",
       "      <td>4.121762</td>\n",
       "    </tr>\n",
       "  </tbody>\n",
       "</table>\n",
       "</div>"
      ],
      "text/plain": [
       "           purchased_loan        per\n",
       "age_bin                             \n",
       "(0, 20]              33.0   0.623936\n",
       "(20, 30]           1112.0  21.024768\n",
       "(30, 40]           1812.0  34.259784\n",
       "(40, 50]           1019.0  19.266402\n",
       "(50, 60]            811.0  15.333711\n",
       "(60, 70]            284.0   5.369635\n",
       "(70, 100]           218.0   4.121762"
      ]
     },
     "execution_count": 45,
     "metadata": {
      "tags": []
     },
     "output_type": "execute_result"
    }
   ],
   "source": [
    "# Analysis: Groupby Age Bin\n",
    "tp_age = pd.DataFrame([df.groupby('age_bin')['purchased_loan'].sum()])\n",
    "tp_age = tp_age.T\n",
    "\n",
    "tp_age['per'] = tp_age['purchased_loan'] / df['purchased_loan'].sum() * 100\n",
    "\n",
    "ind = np.arange(7)\n",
    "width = 0.50\n",
    "\n",
    "fig, ax = plt.subplots()\n",
    "Outcomebyage_chart = ax.bar(ind, tp_age['purchased_loan'], width, color='blue', align='center')\n",
    "\n",
    "ax.set(title = 'Bar Chart: Purchased Loan grouped by Age', xticks = ind + width/2,\n",
    "      xticklabels = [tp_age.index[0], tp_age.index[1], tp_age.index[2]\n",
    "                    , tp_age.index[3], tp_age.index[4], tp_age.index[5]\n",
    "                    , tp_age.index[6]])\n",
    "\n",
    "plt.show()\n",
    "tp_age\n",
    "# (30, 40] - There is a meaningful distinction with the values for this attribute"
   ]
  },
  {
   "cell_type": "code",
   "execution_count": null,
   "metadata": {
    "colab": {
     "base_uri": "https://localhost:8080/",
     "height": 775
    },
    "id": "TxsSReYsrN2y",
    "outputId": "70e032a8-7083-48d2-a4c0-045cc2092170"
   },
   "outputs": [
    {
     "data": {
      "image/png": "[encoded data removed]",
      "text/plain": [
       "<Figure size 1440x720 with 1 Axes>"
      ]
     },
     "metadata": {
      "needs_background": "light",
      "tags": []
     },
     "output_type": "display_data"
    },
    {
     "data": {
      "text/html": [
       "<div>\n",
       "<style scoped>\n",
       "    .dataframe tbody tr th:only-of-type {\n",
       "        vertical-align: middle;\n",
       "    }\n",
       "\n",
       "    .dataframe tbody tr th {\n",
       "        vertical-align: top;\n",
       "    }\n",
       "\n",
       "    .dataframe thead th {\n",
       "        text-align: right;\n",
       "    }\n",
       "</style>\n",
       "<table border=\"1\" class=\"dataframe\">\n",
       "  <thead>\n",
       "    <tr style=\"text-align: right;\">\n",
       "      <th></th>\n",
       "      <th>purchased_loan</th>\n",
       "      <th>per</th>\n",
       "    </tr>\n",
       "    <tr>\n",
       "      <th>balance_bin</th>\n",
       "      <th></th>\n",
       "      <th></th>\n",
       "    </tr>\n",
       "  </thead>\n",
       "  <tbody>\n",
       "    <tr>\n",
       "      <th>(-20, 0]</th>\n",
       "      <td>502.0</td>\n",
       "      <td>9.491397</td>\n",
       "    </tr>\n",
       "    <tr>\n",
       "      <th>(0, 1]</th>\n",
       "      <td>2539.0</td>\n",
       "      <td>48.005294</td>\n",
       "    </tr>\n",
       "    <tr>\n",
       "      <th>(1, 5]</th>\n",
       "      <td>1807.0</td>\n",
       "      <td>34.165249</td>\n",
       "    </tr>\n",
       "    <tr>\n",
       "      <th>(5, 20]</th>\n",
       "      <td>412.0</td>\n",
       "      <td>7.789752</td>\n",
       "    </tr>\n",
       "    <tr>\n",
       "      <th>(20, 50]</th>\n",
       "      <td>25.0</td>\n",
       "      <td>0.472679</td>\n",
       "    </tr>\n",
       "    <tr>\n",
       "      <th>(50, 100]</th>\n",
       "      <td>4.0</td>\n",
       "      <td>0.075629</td>\n",
       "    </tr>\n",
       "    <tr>\n",
       "      <th>(100, 1000]</th>\n",
       "      <td>0.0</td>\n",
       "      <td>0.000000</td>\n",
       "    </tr>\n",
       "  </tbody>\n",
       "</table>\n",
       "</div>"
      ],
      "text/plain": [
       "             purchased_loan        per\n",
       "balance_bin                           \n",
       "(-20, 0]              502.0   9.491397\n",
       "(0, 1]               2539.0  48.005294\n",
       "(1, 5]               1807.0  34.165249\n",
       "(5, 20]               412.0   7.789752\n",
       "(20, 50]               25.0   0.472679\n",
       "(50, 100]               4.0   0.075629\n",
       "(100, 1000]             0.0   0.000000"
      ]
     },
     "execution_count": 46,
     "metadata": {
      "tags": []
     },
     "output_type": "execute_result"
    }
   ],
   "source": [
    "# Analysis: Groupby Balance Bin\n",
    "tp_bal = pd.DataFrame([df.groupby('balance_bin')['purchased_loan'].sum()])\n",
    "tp_bal = tp_bal.T\n",
    "\n",
    "tp_bal['per'] = tp_bal['purchased_loan'] / df['purchased_loan'].sum() * 100\n",
    "\n",
    "ind = np.arange(7)\n",
    "width = 0.50\n",
    "\n",
    "fig, ax = plt.subplots()\n",
    "Outcomebybalance_chart = ax.bar(ind, tp_bal['purchased_loan'], width, color='blue', align='center')\n",
    "\n",
    "ax.set(title = 'Bar Chart: Purchased Loan grouped by Balance (Thousands)', xticks = ind + width/2,\n",
    "      xticklabels = [tp_bal.index[0], tp_bal.index[1], tp_bal.index[2]\n",
    "                    , tp_bal.index[3], tp_bal.index[4], tp_bal.index[5]\n",
    "                    , tp_bal.index[6]])\n",
    "\n",
    "plt.show()\n",
    "tp_bal\n",
    "# (0, 1] - There is a meaningful distinction with the values for this attribute"
   ]
  },
  {
   "cell_type": "code",
   "execution_count": null,
   "metadata": {
    "colab": {
     "base_uri": "https://localhost:8080/",
     "height": 912
    },
    "id": "opUSuYYkraF0",
    "outputId": "f78eab75-0c17-4deb-ee34-8dc4d43c1539"
   },
   "outputs": [
    {
     "data": {
      "image/png": "[encoded data removed]",
      "text/plain": [
       "<Figure size 1440x720 with 1 Axes>"
      ]
     },
     "metadata": {
      "needs_background": "light",
      "tags": []
     },
     "output_type": "display_data"
    },
    {
     "data": {
      "text/html": [
       "<div>\n",
       "<style scoped>\n",
       "    .dataframe tbody tr th:only-of-type {\n",
       "        vertical-align: middle;\n",
       "    }\n",
       "\n",
       "    .dataframe tbody tr th {\n",
       "        vertical-align: top;\n",
       "    }\n",
       "\n",
       "    .dataframe thead th {\n",
       "        text-align: right;\n",
       "    }\n",
       "</style>\n",
       "<table border=\"1\" class=\"dataframe\">\n",
       "  <thead>\n",
       "    <tr style=\"text-align: right;\">\n",
       "      <th></th>\n",
       "      <th>purchased_loan</th>\n",
       "      <th>per</th>\n",
       "    </tr>\n",
       "    <tr>\n",
       "      <th>job</th>\n",
       "      <th></th>\n",
       "      <th></th>\n",
       "    </tr>\n",
       "  </thead>\n",
       "  <tbody>\n",
       "    <tr>\n",
       "      <th>admin.</th>\n",
       "      <td>631.0</td>\n",
       "      <td>11.930422</td>\n",
       "    </tr>\n",
       "    <tr>\n",
       "      <th>blue-collar</th>\n",
       "      <td>708.0</td>\n",
       "      <td>13.386273</td>\n",
       "    </tr>\n",
       "    <tr>\n",
       "      <th>entrepreneur</th>\n",
       "      <td>123.0</td>\n",
       "      <td>2.325581</td>\n",
       "    </tr>\n",
       "    <tr>\n",
       "      <th>housemaid</th>\n",
       "      <td>109.0</td>\n",
       "      <td>2.060881</td>\n",
       "    </tr>\n",
       "    <tr>\n",
       "      <th>management</th>\n",
       "      <td>1301.0</td>\n",
       "      <td>24.598223</td>\n",
       "    </tr>\n",
       "    <tr>\n",
       "      <th>retired</th>\n",
       "      <td>516.0</td>\n",
       "      <td>9.756098</td>\n",
       "    </tr>\n",
       "    <tr>\n",
       "      <th>self-employed</th>\n",
       "      <td>187.0</td>\n",
       "      <td>3.535640</td>\n",
       "    </tr>\n",
       "    <tr>\n",
       "      <th>services</th>\n",
       "      <td>369.0</td>\n",
       "      <td>6.976744</td>\n",
       "    </tr>\n",
       "    <tr>\n",
       "      <th>student</th>\n",
       "      <td>269.0</td>\n",
       "      <td>5.086028</td>\n",
       "    </tr>\n",
       "    <tr>\n",
       "      <th>technician</th>\n",
       "      <td>840.0</td>\n",
       "      <td>15.882019</td>\n",
       "    </tr>\n",
       "    <tr>\n",
       "      <th>unemployed</th>\n",
       "      <td>202.0</td>\n",
       "      <td>3.819247</td>\n",
       "    </tr>\n",
       "    <tr>\n",
       "      <th>unknown</th>\n",
       "      <td>34.0</td>\n",
       "      <td>0.642844</td>\n",
       "    </tr>\n",
       "  </tbody>\n",
       "</table>\n",
       "</div>"
      ],
      "text/plain": [
       "               purchased_loan        per\n",
       "job                                     \n",
       "admin.                  631.0  11.930422\n",
       "blue-collar             708.0  13.386273\n",
       "entrepreneur            123.0   2.325581\n",
       "housemaid               109.0   2.060881\n",
       "management             1301.0  24.598223\n",
       "retired                 516.0   9.756098\n",
       "self-employed           187.0   3.535640\n",
       "services                369.0   6.976744\n",
       "student                 269.0   5.086028\n",
       "technician              840.0  15.882019\n",
       "unemployed              202.0   3.819247\n",
       "unknown                  34.0   0.642844"
      ]
     },
     "execution_count": 47,
     "metadata": {
      "tags": []
     },
     "output_type": "execute_result"
    }
   ],
   "source": [
    "# Analysis: Groupby Job\n",
    "tp_job = pd.DataFrame([df.groupby('job')['purchased_loan'].sum()])\n",
    "tp_job = tp_job.T\n",
    "\n",
    "tp_job['per'] = tp_job['purchased_loan'] / df['purchased_loan'].sum() * 100\n",
    "\n",
    "#ind = np.arange(7)\n",
    "ind = np.arange(len(df['job'].unique()))\n",
    "width = 0.50\n",
    "\n",
    "fig, ax = plt.subplots()\n",
    "Outcomebyjob_chart = ax.barh(ind, tp_job['purchased_loan'], width, color='green', align='center')\n",
    "\n",
    "ax.set(title = 'Bar Chart: Purchased Loan grouped by Job', yticks = ind + width/2,\n",
    "               yticklabels = [tp_job.index[0], tp_job.index[1], tp_job.index[2]\n",
    "                    , tp_job.index[3], tp_job.index[4], tp_job.index[5]\n",
    "                    , tp_job.index[6], tp_job.index[7], tp_job.index[8]\n",
    "                    , tp_job.index[9], tp_job.index[10], tp_job.index[11]])\n",
    "            \n",
    "plt.show()\n",
    "tp_job\n",
    "# Management - There is a meaningful distinction with the values for this attribute"
   ]
  },
  {
   "cell_type": "code",
   "execution_count": null,
   "metadata": {
    "colab": {
     "base_uri": "https://localhost:8080/",
     "height": 670
    },
    "id": "vynLuXb1rpFh",
    "outputId": "d387b8fe-bc10-4ca1-db6d-33ed822fedfb"
   },
   "outputs": [
    {
     "data": {
      "image/png": "[encoded data removed]",
      "text/plain": [
       "<Figure size 864x432 with 1 Axes>"
      ]
     },
     "metadata": {
      "needs_background": "light",
      "tags": []
     },
     "output_type": "display_data"
    },
    {
     "data": {
      "text/html": [
       "<div>\n",
       "<style scoped>\n",
       "    .dataframe tbody tr th:only-of-type {\n",
       "        vertical-align: middle;\n",
       "    }\n",
       "\n",
       "    .dataframe tbody tr th {\n",
       "        vertical-align: top;\n",
       "    }\n",
       "\n",
       "    .dataframe thead th {\n",
       "        text-align: right;\n",
       "    }\n",
       "</style>\n",
       "<table border=\"1\" class=\"dataframe\">\n",
       "  <thead>\n",
       "    <tr style=\"text-align: right;\">\n",
       "      <th></th>\n",
       "      <th>purchased_loan</th>\n",
       "      <th>per</th>\n",
       "    </tr>\n",
       "    <tr>\n",
       "      <th>duration_bin</th>\n",
       "      <th></th>\n",
       "      <th></th>\n",
       "    </tr>\n",
       "  </thead>\n",
       "  <tbody>\n",
       "    <tr>\n",
       "      <th>(0, 60]</th>\n",
       "      <td>9.0</td>\n",
       "      <td>0.170164</td>\n",
       "    </tr>\n",
       "    <tr>\n",
       "      <th>(60, 120]</th>\n",
       "      <td>202.0</td>\n",
       "      <td>3.819247</td>\n",
       "    </tr>\n",
       "    <tr>\n",
       "      <th>(120, 180]</th>\n",
       "      <td>498.0</td>\n",
       "      <td>9.415769</td>\n",
       "    </tr>\n",
       "    <tr>\n",
       "      <th>(180, 240]</th>\n",
       "      <td>583.0</td>\n",
       "      <td>11.022878</td>\n",
       "    </tr>\n",
       "    <tr>\n",
       "      <th>(240, 300]</th>\n",
       "      <td>539.0</td>\n",
       "      <td>10.190962</td>\n",
       "    </tr>\n",
       "    <tr>\n",
       "      <th>(300, 360]</th>\n",
       "      <td>412.0</td>\n",
       "      <td>7.789752</td>\n",
       "    </tr>\n",
       "    <tr>\n",
       "      <th>(360, 5000]</th>\n",
       "      <td>3046.0</td>\n",
       "      <td>57.591227</td>\n",
       "    </tr>\n",
       "  </tbody>\n",
       "</table>\n",
       "</div>"
      ],
      "text/plain": [
       "              purchased_loan        per\n",
       "duration_bin                           \n",
       "(0, 60]                  9.0   0.170164\n",
       "(60, 120]              202.0   3.819247\n",
       "(120, 180]             498.0   9.415769\n",
       "(180, 240]             583.0  11.022878\n",
       "(240, 300]             539.0  10.190962\n",
       "(300, 360]             412.0   7.789752\n",
       "(360, 5000]           3046.0  57.591227"
      ]
     },
     "execution_count": 48,
     "metadata": {
      "tags": []
     },
     "output_type": "execute_result"
    }
   ],
   "source": [
    "# Analysis: Groupby duration\n",
    "tp_duration = pd.DataFrame([df.groupby('duration_bin')['purchased_loan'].sum()])\n",
    "tp_duration = tp_duration.T\n",
    "\n",
    "tp_duration['per'] = tp_duration['purchased_loan'] / df['purchased_loan'].sum() * 100\n",
    "\n",
    "#ind = np.arange(7)\n",
    "ind = np.arange(7)\n",
    "width = 0.50\n",
    "\n",
    "fig, ax = plt.subplots(figsize=(12,6))\n",
    "Outcomebyduration_chart = ax.bar(ind, tp_duration['purchased_loan'], width, color='green', align='center')\n",
    "\n",
    "ax.set(title = 'Bar Chart: Purchased Loan grouped by Duration (last contact duration, in seconds)', xticks = ind + width/2,\n",
    "               xticklabels = [tp_duration.index[0], tp_duration.index[1], tp_duration.index[2]\n",
    "                    , tp_duration.index[3], tp_duration.index[4], tp_duration.index[5]\n",
    "                    , tp_duration.index[6]])\n",
    "            \n",
    "plt.show()\n",
    "tp_duration\n",
    "# (360, 5000] - There is a meaningful distinction with the values for this attribute\n",
    "# There is a strong correlation between the last contact duration and the decision to\n",
    "# purchase a Loan!"
   ]
  },
  {
   "cell_type": "code",
   "execution_count": null,
   "metadata": {
    "colab": {
     "base_uri": "https://localhost:8080/",
     "height": 670
    },
    "id": "oIKEAhJsr5FP",
    "outputId": "d4e04fe7-f946-41bd-80fd-84748b8ba936"
   },
   "outputs": [
    {
     "data": {
      "image/png": "[encoded data removed]",
      "text/plain": [
       "<Figure size 864x432 with 1 Axes>"
      ]
     },
     "metadata": {
      "needs_background": "light",
      "tags": []
     },
     "output_type": "display_data"
    },
    {
     "data": {
      "text/html": [
       "<div>\n",
       "<style scoped>\n",
       "    .dataframe tbody tr th:only-of-type {\n",
       "        vertical-align: middle;\n",
       "    }\n",
       "\n",
       "    .dataframe tbody tr th {\n",
       "        vertical-align: top;\n",
       "    }\n",
       "\n",
       "    .dataframe thead th {\n",
       "        text-align: right;\n",
       "    }\n",
       "</style>\n",
       "<table border=\"1\" class=\"dataframe\">\n",
       "  <thead>\n",
       "    <tr style=\"text-align: right;\">\n",
       "      <th></th>\n",
       "      <th>purchased_loan</th>\n",
       "      <th>per</th>\n",
       "    </tr>\n",
       "    <tr>\n",
       "      <th>duration_bin</th>\n",
       "      <th></th>\n",
       "      <th></th>\n",
       "    </tr>\n",
       "  </thead>\n",
       "  <tbody>\n",
       "    <tr>\n",
       "      <th>(0, 60]</th>\n",
       "      <td>4754</td>\n",
       "      <td>11.908221</td>\n",
       "    </tr>\n",
       "    <tr>\n",
       "      <th>(60, 120]</th>\n",
       "      <td>9076</td>\n",
       "      <td>22.734332</td>\n",
       "    </tr>\n",
       "    <tr>\n",
       "      <th>(120, 180]</th>\n",
       "      <td>8118</td>\n",
       "      <td>20.334653</td>\n",
       "    </tr>\n",
       "    <tr>\n",
       "      <th>(180, 240]</th>\n",
       "      <td>5451</td>\n",
       "      <td>13.654126</td>\n",
       "    </tr>\n",
       "    <tr>\n",
       "      <th>(240, 300]</th>\n",
       "      <td>3704</td>\n",
       "      <td>9.278092</td>\n",
       "    </tr>\n",
       "    <tr>\n",
       "      <th>(300, 360]</th>\n",
       "      <td>2508</td>\n",
       "      <td>6.282250</td>\n",
       "    </tr>\n",
       "    <tr>\n",
       "      <th>(360, 5000]</th>\n",
       "      <td>6308</td>\n",
       "      <td>15.800812</td>\n",
       "    </tr>\n",
       "  </tbody>\n",
       "</table>\n",
       "</div>"
      ],
      "text/plain": [
       "              purchased_loan        per\n",
       "duration_bin                           \n",
       "(0, 60]                 4754  11.908221\n",
       "(60, 120]               9076  22.734332\n",
       "(120, 180]              8118  20.334653\n",
       "(180, 240]              5451  13.654126\n",
       "(240, 300]              3704   9.278092\n",
       "(300, 360]              2508   6.282250\n",
       "(360, 5000]             6308  15.800812"
      ]
     },
     "execution_count": 49,
     "metadata": {
      "tags": []
     },
     "output_type": "execute_result"
    }
   ],
   "source": [
    "# Analysis: Groupby duration. Slice for NOT purchased Loans to verify correlation\n",
    "df_bank_marketing_not_purch = df[df['purchased_loan'] == 0]\n",
    "tp_duration_no = pd.DataFrame([df_bank_marketing_not_purch.groupby('duration_bin')['purchased_loan'].count()])\n",
    "tp_duration_no = tp_duration_no.T\n",
    "\n",
    "tp_duration_no['per'] = tp_duration_no['purchased_loan'] / df_bank_marketing_not_purch['purchased_loan'].count() * 100\n",
    "\n",
    "#ind = np.arange(7)\n",
    "ind = np.arange(7)\n",
    "width = 0.50\n",
    "\n",
    "fig, ax = plt.subplots(figsize=(12,6))\n",
    "Outcomebyduration_no_chart = ax.bar(ind, tp_duration_no['purchased_loan'], width, color='green', align='center')\n",
    "\n",
    "ax.set(title = 'Bar Chart: NOT Purchased Loan grouped by Duration (last contact duration, in seconds)', xticks = ind + width/2,\n",
    "               xticklabels = [tp_duration_no.index[0], tp_duration_no.index[1], tp_duration_no.index[2]\n",
    "                    , tp_duration_no.index[3], tp_duration_no.index[4], tp_duration_no.index[5]\n",
    "                    , tp_duration_no.index[6]])\n",
    "            \n",
    "plt.show()\n",
    "tp_duration_no\n",
    "# There is No meaningful distinction with the values for this attribute for the NOT\n",
    "# purchased Loan. This confirms the correlation on the Purchased Loans!"
   ]
  },
  {
   "cell_type": "code",
   "execution_count": null,
   "metadata": {
    "colab": {
     "base_uri": "https://localhost:8080/",
     "height": 546
    },
    "id": "N-VDrDOyuA3C",
    "outputId": "319762d9-d215-4542-b605-18463b547f0f"
   },
   "outputs": [
    {
     "data": {
      "image/png": "[encoded data removed]",
      "text/plain": [
       "<Figure size 576x432 with 1 Axes>"
      ]
     },
     "metadata": {
      "needs_background": "light",
      "tags": []
     },
     "output_type": "display_data"
    },
    {
     "data": {
      "text/html": [
       "<div>\n",
       "<style scoped>\n",
       "    .dataframe tbody tr th:only-of-type {\n",
       "        vertical-align: middle;\n",
       "    }\n",
       "\n",
       "    .dataframe tbody tr th {\n",
       "        vertical-align: top;\n",
       "    }\n",
       "\n",
       "    .dataframe thead th {\n",
       "        text-align: right;\n",
       "    }\n",
       "</style>\n",
       "<table border=\"1\" class=\"dataframe\">\n",
       "  <thead>\n",
       "    <tr style=\"text-align: right;\">\n",
       "      <th></th>\n",
       "      <th>purchased_loan</th>\n",
       "      <th>per</th>\n",
       "    </tr>\n",
       "    <tr>\n",
       "      <th>marital</th>\n",
       "      <th></th>\n",
       "      <th></th>\n",
       "    </tr>\n",
       "  </thead>\n",
       "  <tbody>\n",
       "    <tr>\n",
       "      <th>0</th>\n",
       "      <td>622.0</td>\n",
       "      <td>11.760257</td>\n",
       "    </tr>\n",
       "    <tr>\n",
       "      <th>1</th>\n",
       "      <td>1912.0</td>\n",
       "      <td>36.150501</td>\n",
       "    </tr>\n",
       "    <tr>\n",
       "      <th>2</th>\n",
       "      <td>2755.0</td>\n",
       "      <td>52.089242</td>\n",
       "    </tr>\n",
       "  </tbody>\n",
       "</table>\n",
       "</div>"
      ],
      "text/plain": [
       "         purchased_loan        per\n",
       "marital                           \n",
       "0                 622.0  11.760257\n",
       "1                1912.0  36.150501\n",
       "2                2755.0  52.089242"
      ]
     },
     "execution_count": 50,
     "metadata": {
      "tags": []
     },
     "output_type": "execute_result"
    }
   ],
   "source": [
    "# Analysis: Groupby marital\n",
    "tp_marital = pd.DataFrame([df.groupby('marital')['purchased_loan'].sum()])\n",
    "tp_marital = tp_marital.T\n",
    "\n",
    "tp_marital['per'] = tp_marital['purchased_loan'] / df['purchased_loan'].sum() * 100\n",
    "\n",
    "#ind = np.arange(7)\n",
    "ind = np.arange(3)\n",
    "width = 0.50\n",
    "\n",
    "fig, ax = plt.subplots(figsize=(8,6))\n",
    "Outcomebymarital_chart = ax.bar(ind, tp_marital['purchased_loan'], width, color='green', align='center')\n",
    "\n",
    "ax.set(title = 'Bar Chart: Purchased Loan grouped by Marital', xticks = ind + width/2,\n",
    "               xticklabels = [tp_marital.index[0], tp_marital.index[1], tp_marital.index[2]])\n",
    "\n",
    "plt.show()\n",
    "tp_marital\n",
    "#Not Divorced - There is a meaningful distinction with the values for this attribute"
   ]
  },
  {
   "cell_type": "code",
   "execution_count": null,
   "metadata": {
    "colab": {
     "base_uri": "https://localhost:8080/",
     "height": 515
    },
    "id": "j5dtisKfpvNm",
    "outputId": "9f407939-4eb5-4c82-bc07-eeab82700c63"
   },
   "outputs": [
    {
     "data": {
      "image/png": "[encoded data removed]",
      "text/plain": [
       "<Figure size 576x432 with 1 Axes>"
      ]
     },
     "metadata": {
      "needs_background": "light",
      "tags": []
     },
     "output_type": "display_data"
    },
    {
     "data": {
      "text/html": [
       "<div>\n",
       "<style scoped>\n",
       "    .dataframe tbody tr th:only-of-type {\n",
       "        vertical-align: middle;\n",
       "    }\n",
       "\n",
       "    .dataframe tbody tr th {\n",
       "        vertical-align: top;\n",
       "    }\n",
       "\n",
       "    .dataframe thead th {\n",
       "        text-align: right;\n",
       "    }\n",
       "</style>\n",
       "<table border=\"1\" class=\"dataframe\">\n",
       "  <thead>\n",
       "    <tr style=\"text-align: right;\">\n",
       "      <th></th>\n",
       "      <th>purchased_loan</th>\n",
       "      <th>per</th>\n",
       "    </tr>\n",
       "    <tr>\n",
       "      <th>default</th>\n",
       "      <th></th>\n",
       "      <th></th>\n",
       "    </tr>\n",
       "  </thead>\n",
       "  <tbody>\n",
       "    <tr>\n",
       "      <th>0</th>\n",
       "      <td>5237.0</td>\n",
       "      <td>99.016827</td>\n",
       "    </tr>\n",
       "    <tr>\n",
       "      <th>1</th>\n",
       "      <td>52.0</td>\n",
       "      <td>0.983173</td>\n",
       "    </tr>\n",
       "  </tbody>\n",
       "</table>\n",
       "</div>"
      ],
      "text/plain": [
       "         purchased_loan        per\n",
       "default                           \n",
       "0                5237.0  99.016827\n",
       "1                  52.0   0.983173"
      ]
     },
     "execution_count": 51,
     "metadata": {
      "tags": []
     },
     "output_type": "execute_result"
    }
   ],
   "source": [
    "# Analysis: Groupby default\n",
    "tp_default = pd.DataFrame([df.groupby('default')['purchased_loan'].sum()])\n",
    "tp_default = tp_default.T\n",
    "\n",
    "tp_default['per'] = tp_default['purchased_loan'] / df['purchased_loan'].sum() * 100\n",
    "\n",
    "#ind = np.arange(7)\n",
    "ind = np.arange(2)\n",
    "width = 0.50\n",
    "\n",
    "fig, ax = plt.subplots(figsize=(8,6))\n",
    "Outcomebydefault_chart = ax.bar(ind, tp_default['purchased_loan'], width, color='green', align='center')\n",
    "\n",
    "ax.set(title = 'Bar Chart: Purchased Loan grouped by Default', xticks = ind + width/2,\n",
    "               xticklabels = [tp_default.index[0], tp_default.index[1]])\n",
    "\n",
    "plt.show()\n",
    "tp_default\n",
    "#Not Divorced - There is a meaningful distinction with the values for this attribute"
   ]
  },
  {
   "cell_type": "markdown",
   "metadata": {
    "id": "pOgQixdbOa0e"
   },
   "source": []
  },
  {
   "cell_type": "markdown",
   "metadata": {
    "id": "CRWGVrtAqMdo"
   },
   "source": [
    "# Predictive Statistics Section"
   ]
  },
  {
   "cell_type": "markdown",
   "metadata": {
    "id": "2IxGrjDZxJa0"
   },
   "source": [
    "- Based on the dataset and the classification goal, i.e. to predict if the client subscribes to the Bank's Term Loan (Yes / No) a logistic Regression Model seems like the best candidate from the ones covered on this course.  \n",
    "- We are including two Logistic models, one from the scipy library and another from the sklearn library.  \n",
    "- The final section compares diferent models and finds the best model for our problem. A Random Forest Algorithm seems to be slightly better than the Logistic model but since it wasn't covered on this course we did not choose it as the main model. This comparison allows us to certify that the Logistic Regression Model was a good choice for this problem.\n"
   ]
  },
  {
   "cell_type": "code",
   "execution_count": null,
   "metadata": {
    "colab": {
     "base_uri": "https://localhost:8080/"
    },
    "id": "3k0DktecqiVL",
    "outputId": "9c5add68-a3bf-477f-cf3a-11bdd3370979"
   },
   "outputs": [
    {
     "name": "stdout",
     "output_type": "stream",
     "text": [
      "Optimization terminated successfully.\n",
      "         Current function value: 0.572958\n",
      "         Iterations 6\n"
     ]
    }
   ],
   "source": [
    "# Logit Model\n",
    "\n",
    "predictors = ['age', 'duration', 'job_cat', 'balance', 'marital_cat', 'education_cat'\\\n",
    "              , 'default_cat']\n",
    "m1 = Logit(df_bank_marketing_balanced['purchased_loan'], df_bank_marketing_balanced[predictors])\n",
    "m1 = m1.fit()"
   ]
  },
  {
   "cell_type": "code",
   "execution_count": null,
   "metadata": {
    "colab": {
     "base_uri": "https://localhost:8080/"
    },
    "id": "QFhvZUHjqqKC",
    "outputId": "8de07368-6fc2-4321-d316-b3e528cfd7f5"
   },
   "outputs": [
    {
     "data": {
      "text/plain": [
       "age             -0.027261\n",
       "duration         0.003903\n",
       "job_cat          0.006907\n",
       "balance          0.000061\n",
       "marital_cat     -0.291275\n",
       "education_cat    0.102967\n",
       "default_cat     -1.004661\n",
       "dtype: float64"
      ]
     },
     "execution_count": 53,
     "metadata": {
      "tags": []
     },
     "output_type": "execute_result"
    }
   ],
   "source": [
    "m1.params"
   ]
  },
  {
   "cell_type": "code",
   "execution_count": null,
   "metadata": {
    "colab": {
     "base_uri": "https://localhost:8080/"
    },
    "id": "W4HiPM-cqt2p",
    "outputId": "d65cab0c-904a-4179-d21c-3cce1addd05d"
   },
   "outputs": [
    {
     "name": "stdout",
     "output_type": "stream",
     "text": [
      "                         Results: Logit\n",
      "=================================================================\n",
      "Model:              Logit            Pseudo R-squared: 0.173     \n",
      "Dependent Variable: purchased_loan   AIC:              12135.5013\n",
      "Date:               2020-12-01 16:08 BIC:              12186.3670\n",
      "No. Observations:   10578            Log-Likelihood:   -6060.8   \n",
      "Df Model:           6                LL-Null:          -7332.1   \n",
      "Df Residuals:       10571            LLR p-value:      0.0000    \n",
      "Converged:          1.0000           Scale:            1.0000    \n",
      "No. Iterations:     6.0000                                       \n",
      "-----------------------------------------------------------------\n",
      "                  Coef.  Std.Err.    z     P>|z|   [0.025  0.975]\n",
      "-----------------------------------------------------------------\n",
      "age              -0.0273   0.0012 -23.4866 0.0000 -0.0295 -0.0250\n",
      "duration          0.0039   0.0001  38.1204 0.0000  0.0037  0.0041\n",
      "job_cat           0.0069   0.0067   1.0299 0.3030 -0.0062  0.0201\n",
      "balance           0.0001   0.0000   7.4057 0.0000  0.0000  0.0001\n",
      "marital_cat      -0.2913   0.0308  -9.4617 0.0000 -0.3516 -0.2309\n",
      "education_cat     0.1030   0.0287   3.5852 0.0003  0.0467  0.1593\n",
      "default_cat      -1.0047   0.1954  -5.1428 0.0000 -1.3875 -0.6218\n",
      "=================================================================\n",
      "\n"
     ]
    }
   ],
   "source": [
    "print(m1.summary2())"
   ]
  },
  {
   "cell_type": "code",
   "execution_count": null,
   "metadata": {
    "id": "Tl7zHYLsqxUR"
   },
   "outputs": [],
   "source": [
    "# Derive the estimates of the odds.\n",
    "# Assigned predicted value to new column 'p'\n",
    "\n",
    "df_bank_marketing_balanced.loc[:, 'p'] = m1.predict(df_bank_marketing_balanced[predictors])"
   ]
  },
  {
   "cell_type": "code",
   "execution_count": null,
   "metadata": {
    "colab": {
     "base_uri": "https://localhost:8080/",
     "height": 492
    },
    "id": "hCfo1O9xrEmD",
    "outputId": "57bf1e30-fe62-4c29-ea16-24f1efc6dab5"
   },
   "outputs": [
    {
     "data": {
      "image/png": "[encoded data removed]",
      "text/plain": [
       "<Figure size 1440x720 with 1 Axes>"
      ]
     },
     "metadata": {
      "needs_background": "light",
      "tags": []
     },
     "output_type": "display_data"
    }
   ],
   "source": [
    "# Plot the relationship between the values of logit(p) and odds (p) along the actual values of the response (purchased_loan).\n",
    "\n",
    "df_bank_marketing_balanced = df_bank_marketing_balanced.sort_values(by = ['p'], axis = 0)\n",
    "plt.plot(logit(df_bank_marketing_balanced.p), df_bank_marketing_balanced.p, '--')\n",
    "plt.plot(logit(df_bank_marketing_balanced.p), df_bank_marketing_balanced.purchased_loan, '+')\n",
    "plt.xlabel('logit(p)')\n",
    "plt.ylabel('p')\n",
    "plt.show()"
   ]
  },
  {
   "cell_type": "markdown",
   "metadata": {
    "id": "SgLqJU1E0qNZ"
   },
   "source": [
    "# Logistic Regression Section"
   ]
  },
  {
   "cell_type": "code",
   "execution_count": null,
   "metadata": {
    "colab": {
     "base_uri": "https://localhost:8080/",
     "height": 224
    },
    "id": "Tb8w3N-WghXb",
    "outputId": "97b7f884-db01-4b1b-9239-8414be8d3417"
   },
   "outputs": [
    {
     "data": {
      "text/html": [
       "<div>\n",
       "<style scoped>\n",
       "    .dataframe tbody tr th:only-of-type {\n",
       "        vertical-align: middle;\n",
       "    }\n",
       "\n",
       "    .dataframe tbody tr th {\n",
       "        vertical-align: top;\n",
       "    }\n",
       "\n",
       "    .dataframe thead th {\n",
       "        text-align: right;\n",
       "    }\n",
       "</style>\n",
       "<table border=\"1\" class=\"dataframe\">\n",
       "  <thead>\n",
       "    <tr style=\"text-align: right;\">\n",
       "      <th></th>\n",
       "      <th>age</th>\n",
       "      <th>job</th>\n",
       "      <th>marital</th>\n",
       "      <th>education</th>\n",
       "      <th>default</th>\n",
       "      <th>balance</th>\n",
       "      <th>housing</th>\n",
       "      <th>loan</th>\n",
       "      <th>contact</th>\n",
       "      <th>day</th>\n",
       "      <th>month</th>\n",
       "      <th>duration</th>\n",
       "      <th>campaign</th>\n",
       "      <th>pdays</th>\n",
       "      <th>previous</th>\n",
       "      <th>poutcome</th>\n",
       "      <th>y</th>\n",
       "      <th>purchased_loan</th>\n",
       "      <th>default_cat</th>\n",
       "      <th>housing_cat</th>\n",
       "      <th>loan_cat</th>\n",
       "      <th>job_cat</th>\n",
       "      <th>marital_cat</th>\n",
       "      <th>education_cat</th>\n",
       "      <th>age_bin</th>\n",
       "      <th>balance_bin</th>\n",
       "      <th>duration_bin</th>\n",
       "      <th>p</th>\n",
       "    </tr>\n",
       "  </thead>\n",
       "  <tbody>\n",
       "    <tr>\n",
       "      <th>4629</th>\n",
       "      <td>51</td>\n",
       "      <td>entrepreneur</td>\n",
       "      <td>single</td>\n",
       "      <td>tertiary</td>\n",
       "      <td>yes</td>\n",
       "      <td>15</td>\n",
       "      <td>no</td>\n",
       "      <td>no</td>\n",
       "      <td>unknown</td>\n",
       "      <td>11</td>\n",
       "      <td>jun</td>\n",
       "      <td>104</td>\n",
       "      <td>2</td>\n",
       "      <td>-1</td>\n",
       "      <td>0</td>\n",
       "      <td>unknown</td>\n",
       "      <td>no</td>\n",
       "      <td>0</td>\n",
       "      <td>1</td>\n",
       "      <td>0</td>\n",
       "      <td>0</td>\n",
       "      <td>2</td>\n",
       "      <td>2</td>\n",
       "      <td>2</td>\n",
       "      <td>(50, 60]</td>\n",
       "      <td>(0, 1]</td>\n",
       "      <td>(60, 120]</td>\n",
       "      <td>0.086989</td>\n",
       "    </tr>\n",
       "    <tr>\n",
       "      <th>7087</th>\n",
       "      <td>34</td>\n",
       "      <td>blue-collar</td>\n",
       "      <td>single</td>\n",
       "      <td>primary</td>\n",
       "      <td>yes</td>\n",
       "      <td>81</td>\n",
       "      <td>no</td>\n",
       "      <td>yes</td>\n",
       "      <td>cellular</td>\n",
       "      <td>9</td>\n",
       "      <td>feb</td>\n",
       "      <td>44</td>\n",
       "      <td>2</td>\n",
       "      <td>-1</td>\n",
       "      <td>0</td>\n",
       "      <td>unknown</td>\n",
       "      <td>no</td>\n",
       "      <td>0</td>\n",
       "      <td>1</td>\n",
       "      <td>0</td>\n",
       "      <td>1</td>\n",
       "      <td>1</td>\n",
       "      <td>2</td>\n",
       "      <td>0</td>\n",
       "      <td>(30, 40]</td>\n",
       "      <td>(0, 1]</td>\n",
       "      <td>(0, 60]</td>\n",
       "      <td>0.088628</td>\n",
       "    </tr>\n",
       "    <tr>\n",
       "      <th>7901</th>\n",
       "      <td>51</td>\n",
       "      <td>admin.</td>\n",
       "      <td>married</td>\n",
       "      <td>unknown</td>\n",
       "      <td>yes</td>\n",
       "      <td>-12</td>\n",
       "      <td>no</td>\n",
       "      <td>no</td>\n",
       "      <td>cellular</td>\n",
       "      <td>20</td>\n",
       "      <td>aug</td>\n",
       "      <td>18</td>\n",
       "      <td>7</td>\n",
       "      <td>-1</td>\n",
       "      <td>0</td>\n",
       "      <td>unknown</td>\n",
       "      <td>no</td>\n",
       "      <td>0</td>\n",
       "      <td>1</td>\n",
       "      <td>0</td>\n",
       "      <td>0</td>\n",
       "      <td>0</td>\n",
       "      <td>1</td>\n",
       "      <td>3</td>\n",
       "      <td>(50, 60]</td>\n",
       "      <td>(-20, 0]</td>\n",
       "      <td>(0, 60]</td>\n",
       "      <td>0.090477</td>\n",
       "    </tr>\n",
       "    <tr>\n",
       "      <th>2239</th>\n",
       "      <td>51</td>\n",
       "      <td>management</td>\n",
       "      <td>single</td>\n",
       "      <td>tertiary</td>\n",
       "      <td>yes</td>\n",
       "      <td>-55</td>\n",
       "      <td>yes</td>\n",
       "      <td>no</td>\n",
       "      <td>cellular</td>\n",
       "      <td>18</td>\n",
       "      <td>aug</td>\n",
       "      <td>119</td>\n",
       "      <td>6</td>\n",
       "      <td>-1</td>\n",
       "      <td>0</td>\n",
       "      <td>unknown</td>\n",
       "      <td>no</td>\n",
       "      <td>0</td>\n",
       "      <td>1</td>\n",
       "      <td>1</td>\n",
       "      <td>0</td>\n",
       "      <td>4</td>\n",
       "      <td>2</td>\n",
       "      <td>2</td>\n",
       "      <td>(50, 60]</td>\n",
       "      <td>(-20, 0]</td>\n",
       "      <td>(60, 120]</td>\n",
       "      <td>0.092550</td>\n",
       "    </tr>\n",
       "    <tr>\n",
       "      <th>4178</th>\n",
       "      <td>43</td>\n",
       "      <td>technician</td>\n",
       "      <td>single</td>\n",
       "      <td>secondary</td>\n",
       "      <td>yes</td>\n",
       "      <td>685</td>\n",
       "      <td>yes</td>\n",
       "      <td>no</td>\n",
       "      <td>cellular</td>\n",
       "      <td>18</td>\n",
       "      <td>nov</td>\n",
       "      <td>78</td>\n",
       "      <td>1</td>\n",
       "      <td>110</td>\n",
       "      <td>2</td>\n",
       "      <td>failure</td>\n",
       "      <td>no</td>\n",
       "      <td>0</td>\n",
       "      <td>1</td>\n",
       "      <td>1</td>\n",
       "      <td>0</td>\n",
       "      <td>9</td>\n",
       "      <td>2</td>\n",
       "      <td>1</td>\n",
       "      <td>(40, 50]</td>\n",
       "      <td>(0, 1]</td>\n",
       "      <td>(60, 120]</td>\n",
       "      <td>0.095520</td>\n",
       "    </tr>\n",
       "  </tbody>\n",
       "</table>\n",
       "</div>"
      ],
      "text/plain": [
       "      age           job  marital  ... balance_bin duration_bin         p\n",
       "4629   51  entrepreneur   single  ...      (0, 1]    (60, 120]  0.086989\n",
       "7087   34   blue-collar   single  ...      (0, 1]      (0, 60]  0.088628\n",
       "7901   51        admin.  married  ...    (-20, 0]      (0, 60]  0.090477\n",
       "2239   51    management   single  ...    (-20, 0]    (60, 120]  0.092550\n",
       "4178   43    technician   single  ...      (0, 1]    (60, 120]  0.095520\n",
       "\n",
       "[5 rows x 28 columns]"
      ]
     },
     "execution_count": 59,
     "metadata": {
      "tags": []
     },
     "output_type": "execute_result"
    }
   ],
   "source": [
    "\n",
    "df_bank_marketing_balanced.head()"
   ]
  },
  {
   "cell_type": "code",
   "execution_count": null,
   "metadata": {
    "id": "cTugcad5kZ4w"
   },
   "outputs": [],
   "source": [
    "from sklearn.linear_model import LogisticRegression\n",
    "from sklearn import metrics\n",
    "from sklearn.model_selection import train_test_split"
   ]
  },
  {
   "cell_type": "code",
   "execution_count": null,
   "metadata": {
    "colab": {
     "base_uri": "https://localhost:8080/"
    },
    "id": "6L8CNWgtylrv",
    "outputId": "2e47601b-07ab-46ad-da96-6dead17c1f27"
   },
   "outputs": [
    {
     "data": {
      "text/plain": [
       "LogisticRegression(C=1.0, class_weight=None, dual=False, fit_intercept=True,\n",
       "                   intercept_scaling=1, l1_ratio=None, max_iter=100,\n",
       "                   multi_class='auto', n_jobs=None, penalty='l2',\n",
       "                   random_state=None, solver='lbfgs', tol=0.0001, verbose=0,\n",
       "                   warm_start=False)"
      ]
     },
     "execution_count": 61,
     "metadata": {
      "tags": []
     },
     "output_type": "execute_result"
    }
   ],
   "source": [
    "X_train, X_test, y_train, y_test = train_test_split(df_bank_marketing_balanced[predictors], df_bank_marketing_balanced['purchased_loan'], test_size=0.2, random_state=0)\n",
    "logreg = LogisticRegression()\n",
    "logreg.fit(X_train, y_train)"
   ]
  },
  {
   "cell_type": "code",
   "execution_count": null,
   "metadata": {
    "colab": {
     "base_uri": "https://localhost:8080/"
    },
    "id": "FvMllux8zdrL",
    "outputId": "69ddb5cd-7c25-49ac-ff06-870e63cad109"
   },
   "outputs": [
    {
     "name": "stdout",
     "output_type": "stream",
     "text": [
      "Accuracy of logistic regression classifier on test set: 71.50%\n"
     ]
    }
   ],
   "source": [
    "y_pred = logreg.predict(X_test)\n",
    "print('Accuracy of logistic regression classifier on test set: {:.2f}'.format(logreg.score(X_test, y_test) * 100) + \"%\")"
   ]
  },
  {
   "cell_type": "code",
   "execution_count": null,
   "metadata": {
    "colab": {
     "base_uri": "https://localhost:8080/"
    },
    "id": "0wzJC60iz2fa",
    "outputId": "be88e0ab-c5f4-4ddf-ddc4-a619da46d728"
   },
   "outputs": [
    {
     "name": "stdout",
     "output_type": "stream",
     "text": [
      "[[809 210]\n",
      " [393 704]]\n"
     ]
    }
   ],
   "source": [
    "from sklearn.metrics import confusion_matrix\n",
    "confusion_matrix = confusion_matrix(y_test, y_pred)\n",
    "print(confusion_matrix)"
   ]
  },
  {
   "cell_type": "code",
   "execution_count": null,
   "metadata": {
    "colab": {
     "base_uri": "https://localhost:8080/"
    },
    "id": "R5Rq0XdV0ASN",
    "outputId": "39704829-2b28-492a-cc26-329905aa28ac"
   },
   "outputs": [
    {
     "name": "stdout",
     "output_type": "stream",
     "text": [
      "              precision    recall  f1-score   support\n",
      "\n",
      "           0       0.67      0.79      0.73      1019\n",
      "           1       0.77      0.64      0.70      1097\n",
      "\n",
      "    accuracy                           0.72      2116\n",
      "   macro avg       0.72      0.72      0.71      2116\n",
      "weighted avg       0.72      0.72      0.71      2116\n",
      "\n"
     ]
    }
   ],
   "source": [
    "from sklearn.metrics import classification_report\n",
    "print(classification_report(y_test, y_pred))"
   ]
  },
  {
   "cell_type": "code",
   "execution_count": null,
   "metadata": {
    "colab": {
     "base_uri": "https://localhost:8080/",
     "height": 500
    },
    "id": "d34t0W380ICj",
    "outputId": "d45d30fd-6fb5-475f-c103-cd679e36b4a1"
   },
   "outputs": [
    {
     "data": {
      "image/png": "[encoded data removed]",
      "text/plain": [
       "<Figure size 1440x720 with 1 Axes>"
      ]
     },
     "metadata": {
      "needs_background": "light",
      "tags": []
     },
     "output_type": "display_data"
    }
   ],
   "source": [
    "from sklearn.metrics import roc_auc_score\n",
    "from sklearn.metrics import roc_curve\n",
    "logit_roc_auc = roc_auc_score(y_test, logreg.predict(X_test))\n",
    "fpr, tpr, thresholds = roc_curve(y_test, logreg.predict_proba(X_test)[:,1])\n",
    "plt.figure()\n",
    "plt.plot(fpr, tpr, label='Logistic Regression (area = %0.2f)' % logit_roc_auc)\n",
    "plt.plot([0, 1], [0, 1],'r--')\n",
    "plt.xlim([0.0, 1.0])\n",
    "plt.ylim([0.0, 1.05])\n",
    "plt.xlabel('False Positive Rate')\n",
    "plt.ylabel('True Positive Rate')\n",
    "plt.title('Receiver operating characteristic')\n",
    "plt.legend(loc=\"lower right\")\n",
    "plt.savefig('Log_ROC')\n",
    "plt.show()"
   ]
  },
  {
   "cell_type": "code",
   "execution_count": null,
   "metadata": {
    "colab": {
     "base_uri": "https://localhost:8080/"
    },
    "id": "XpAkveQhEIY9",
    "outputId": "dfbf5153-5e1d-4e16-b4e0-da92240f690e"
   },
   "outputs": [
    {
     "name": "stdout",
     "output_type": "stream",
     "text": [
      "<class 'pandas.core.frame.DataFrame'>\n",
      "RangeIndex: 45211 entries, 0 to 45210\n",
      "Data columns (total 27 columns):\n",
      " #   Column          Non-Null Count  Dtype   \n",
      "---  ------          --------------  -----   \n",
      " 0   age             45211 non-null  int64   \n",
      " 1   job             45211 non-null  object  \n",
      " 2   marital         45211 non-null  int64   \n",
      " 3   education       45211 non-null  int64   \n",
      " 4   default         45211 non-null  int64   \n",
      " 5   balance         45211 non-null  int64   \n",
      " 6   housing         45211 non-null  int64   \n",
      " 7   loan            45211 non-null  int64   \n",
      " 8   contact         45211 non-null  int64   \n",
      " 9   day             45211 non-null  int64   \n",
      " 10  month           45211 non-null  int64   \n",
      " 11  duration        45211 non-null  int64   \n",
      " 12  campaign        45211 non-null  int64   \n",
      " 13  pdays           45211 non-null  int64   \n",
      " 14  previous        45211 non-null  int64   \n",
      " 15  poutcome        45211 non-null  object  \n",
      " 16  y               45211 non-null  int64   \n",
      " 17  purchased_loan  45211 non-null  int8    \n",
      " 18  default_cat     45211 non-null  int8    \n",
      " 19  housing_cat     45211 non-null  int8    \n",
      " 20  loan_cat        45211 non-null  int8    \n",
      " 21  job_cat         45211 non-null  int8    \n",
      " 22  marital_cat     45211 non-null  int8    \n",
      " 23  education_cat   45211 non-null  int8    \n",
      " 24  age_bin         45211 non-null  category\n",
      " 25  balance_bin     45211 non-null  category\n",
      " 26  duration_bin    45208 non-null  category\n",
      "dtypes: category(3), int64(15), int8(7), object(2)\n",
      "memory usage: 6.3+ MB\n"
     ]
    }
   ],
   "source": [
    "df.info()"
   ]
  },
  {
   "cell_type": "code",
   "execution_count": null,
   "metadata": {
    "colab": {
     "base_uri": "https://localhost:8080/",
     "height": 241
    },
    "id": "tRBoQjXvEMBY",
    "outputId": "b60a0f10-818b-4bcb-c398-f904d9be7739"
   },
   "outputs": [
    {
     "data": {
      "text/html": [
       "<div>\n",
       "<style scoped>\n",
       "    .dataframe tbody tr th:only-of-type {\n",
       "        vertical-align: middle;\n",
       "    }\n",
       "\n",
       "    .dataframe tbody tr th {\n",
       "        vertical-align: top;\n",
       "    }\n",
       "\n",
       "    .dataframe thead th {\n",
       "        text-align: right;\n",
       "    }\n",
       "</style>\n",
       "<table border=\"1\" class=\"dataframe\">\n",
       "  <thead>\n",
       "    <tr style=\"text-align: right;\">\n",
       "      <th></th>\n",
       "      <th>age</th>\n",
       "      <th>job</th>\n",
       "      <th>marital</th>\n",
       "      <th>education</th>\n",
       "      <th>default</th>\n",
       "      <th>balance</th>\n",
       "      <th>housing</th>\n",
       "      <th>loan</th>\n",
       "      <th>contact</th>\n",
       "      <th>day</th>\n",
       "      <th>month</th>\n",
       "      <th>duration</th>\n",
       "      <th>campaign</th>\n",
       "      <th>pdays</th>\n",
       "      <th>previous</th>\n",
       "      <th>poutcome</th>\n",
       "      <th>y</th>\n",
       "      <th>purchased_loan</th>\n",
       "      <th>default_cat</th>\n",
       "      <th>housing_cat</th>\n",
       "      <th>loan_cat</th>\n",
       "      <th>job_cat</th>\n",
       "      <th>marital_cat</th>\n",
       "      <th>education_cat</th>\n",
       "      <th>age_bin</th>\n",
       "      <th>balance_bin</th>\n",
       "      <th>duration_bin</th>\n",
       "      <th>job_admin.</th>\n",
       "      <th>job_blue-collar</th>\n",
       "      <th>job_entrepreneur</th>\n",
       "      <th>job_housemaid</th>\n",
       "      <th>job_management</th>\n",
       "      <th>job_retired</th>\n",
       "      <th>job_self-employed</th>\n",
       "      <th>job_services</th>\n",
       "      <th>job_student</th>\n",
       "      <th>job_technician</th>\n",
       "      <th>job_unemployed</th>\n",
       "      <th>job_unknown</th>\n",
       "    </tr>\n",
       "  </thead>\n",
       "  <tbody>\n",
       "    <tr>\n",
       "      <th>0</th>\n",
       "      <td>58</td>\n",
       "      <td>management</td>\n",
       "      <td>2</td>\n",
       "      <td>3</td>\n",
       "      <td>0</td>\n",
       "      <td>2143</td>\n",
       "      <td>1</td>\n",
       "      <td>0</td>\n",
       "      <td>0</td>\n",
       "      <td>5</td>\n",
       "      <td>5</td>\n",
       "      <td>261</td>\n",
       "      <td>1</td>\n",
       "      <td>-1</td>\n",
       "      <td>0</td>\n",
       "      <td>unknown</td>\n",
       "      <td>0</td>\n",
       "      <td>0</td>\n",
       "      <td>0</td>\n",
       "      <td>1</td>\n",
       "      <td>0</td>\n",
       "      <td>4</td>\n",
       "      <td>1</td>\n",
       "      <td>2</td>\n",
       "      <td>(50, 60]</td>\n",
       "      <td>(1, 5]</td>\n",
       "      <td>(240, 300]</td>\n",
       "      <td>0</td>\n",
       "      <td>0</td>\n",
       "      <td>0</td>\n",
       "      <td>0</td>\n",
       "      <td>1</td>\n",
       "      <td>0</td>\n",
       "      <td>0</td>\n",
       "      <td>0</td>\n",
       "      <td>0</td>\n",
       "      <td>0</td>\n",
       "      <td>0</td>\n",
       "      <td>0</td>\n",
       "    </tr>\n",
       "    <tr>\n",
       "      <th>1</th>\n",
       "      <td>44</td>\n",
       "      <td>technician</td>\n",
       "      <td>1</td>\n",
       "      <td>2</td>\n",
       "      <td>0</td>\n",
       "      <td>29</td>\n",
       "      <td>1</td>\n",
       "      <td>0</td>\n",
       "      <td>0</td>\n",
       "      <td>5</td>\n",
       "      <td>5</td>\n",
       "      <td>151</td>\n",
       "      <td>1</td>\n",
       "      <td>-1</td>\n",
       "      <td>0</td>\n",
       "      <td>unknown</td>\n",
       "      <td>0</td>\n",
       "      <td>0</td>\n",
       "      <td>0</td>\n",
       "      <td>1</td>\n",
       "      <td>0</td>\n",
       "      <td>9</td>\n",
       "      <td>2</td>\n",
       "      <td>1</td>\n",
       "      <td>(40, 50]</td>\n",
       "      <td>(0, 1]</td>\n",
       "      <td>(120, 180]</td>\n",
       "      <td>0</td>\n",
       "      <td>0</td>\n",
       "      <td>0</td>\n",
       "      <td>0</td>\n",
       "      <td>0</td>\n",
       "      <td>0</td>\n",
       "      <td>0</td>\n",
       "      <td>0</td>\n",
       "      <td>0</td>\n",
       "      <td>1</td>\n",
       "      <td>0</td>\n",
       "      <td>0</td>\n",
       "    </tr>\n",
       "    <tr>\n",
       "      <th>2</th>\n",
       "      <td>33</td>\n",
       "      <td>entrepreneur</td>\n",
       "      <td>2</td>\n",
       "      <td>2</td>\n",
       "      <td>0</td>\n",
       "      <td>2</td>\n",
       "      <td>1</td>\n",
       "      <td>1</td>\n",
       "      <td>0</td>\n",
       "      <td>5</td>\n",
       "      <td>5</td>\n",
       "      <td>76</td>\n",
       "      <td>1</td>\n",
       "      <td>-1</td>\n",
       "      <td>0</td>\n",
       "      <td>unknown</td>\n",
       "      <td>0</td>\n",
       "      <td>0</td>\n",
       "      <td>0</td>\n",
       "      <td>1</td>\n",
       "      <td>1</td>\n",
       "      <td>2</td>\n",
       "      <td>1</td>\n",
       "      <td>1</td>\n",
       "      <td>(30, 40]</td>\n",
       "      <td>(0, 1]</td>\n",
       "      <td>(60, 120]</td>\n",
       "      <td>0</td>\n",
       "      <td>0</td>\n",
       "      <td>1</td>\n",
       "      <td>0</td>\n",
       "      <td>0</td>\n",
       "      <td>0</td>\n",
       "      <td>0</td>\n",
       "      <td>0</td>\n",
       "      <td>0</td>\n",
       "      <td>0</td>\n",
       "      <td>0</td>\n",
       "      <td>0</td>\n",
       "    </tr>\n",
       "    <tr>\n",
       "      <th>3</th>\n",
       "      <td>47</td>\n",
       "      <td>blue-collar</td>\n",
       "      <td>2</td>\n",
       "      <td>0</td>\n",
       "      <td>0</td>\n",
       "      <td>1506</td>\n",
       "      <td>1</td>\n",
       "      <td>0</td>\n",
       "      <td>0</td>\n",
       "      <td>5</td>\n",
       "      <td>5</td>\n",
       "      <td>92</td>\n",
       "      <td>1</td>\n",
       "      <td>-1</td>\n",
       "      <td>0</td>\n",
       "      <td>unknown</td>\n",
       "      <td>0</td>\n",
       "      <td>0</td>\n",
       "      <td>0</td>\n",
       "      <td>1</td>\n",
       "      <td>0</td>\n",
       "      <td>1</td>\n",
       "      <td>1</td>\n",
       "      <td>3</td>\n",
       "      <td>(40, 50]</td>\n",
       "      <td>(1, 5]</td>\n",
       "      <td>(60, 120]</td>\n",
       "      <td>0</td>\n",
       "      <td>1</td>\n",
       "      <td>0</td>\n",
       "      <td>0</td>\n",
       "      <td>0</td>\n",
       "      <td>0</td>\n",
       "      <td>0</td>\n",
       "      <td>0</td>\n",
       "      <td>0</td>\n",
       "      <td>0</td>\n",
       "      <td>0</td>\n",
       "      <td>0</td>\n",
       "    </tr>\n",
       "    <tr>\n",
       "      <th>4</th>\n",
       "      <td>33</td>\n",
       "      <td>unknown</td>\n",
       "      <td>1</td>\n",
       "      <td>0</td>\n",
       "      <td>0</td>\n",
       "      <td>1</td>\n",
       "      <td>0</td>\n",
       "      <td>0</td>\n",
       "      <td>0</td>\n",
       "      <td>5</td>\n",
       "      <td>5</td>\n",
       "      <td>198</td>\n",
       "      <td>1</td>\n",
       "      <td>-1</td>\n",
       "      <td>0</td>\n",
       "      <td>unknown</td>\n",
       "      <td>0</td>\n",
       "      <td>0</td>\n",
       "      <td>0</td>\n",
       "      <td>0</td>\n",
       "      <td>0</td>\n",
       "      <td>11</td>\n",
       "      <td>2</td>\n",
       "      <td>3</td>\n",
       "      <td>(30, 40]</td>\n",
       "      <td>(0, 1]</td>\n",
       "      <td>(180, 240]</td>\n",
       "      <td>0</td>\n",
       "      <td>0</td>\n",
       "      <td>0</td>\n",
       "      <td>0</td>\n",
       "      <td>0</td>\n",
       "      <td>0</td>\n",
       "      <td>0</td>\n",
       "      <td>0</td>\n",
       "      <td>0</td>\n",
       "      <td>0</td>\n",
       "      <td>0</td>\n",
       "      <td>1</td>\n",
       "    </tr>\n",
       "  </tbody>\n",
       "</table>\n",
       "</div>"
      ],
      "text/plain": [
       "   age           job  marital  ...  job_technician  job_unemployed  job_unknown\n",
       "0   58    management        2  ...               0               0            0\n",
       "1   44    technician        1  ...               1               0            0\n",
       "2   33  entrepreneur        2  ...               0               0            0\n",
       "3   47   blue-collar        2  ...               0               0            0\n",
       "4   33       unknown        1  ...               0               0            1\n",
       "\n",
       "[5 rows x 39 columns]"
      ]
     },
     "execution_count": 67,
     "metadata": {
      "tags": []
     },
     "output_type": "execute_result"
    }
   ],
   "source": [
    "dummy_jobs = pd.get_dummies(df['job'], prefix='job')\n",
    "df = df.join(dummy_jobs)\n",
    "df.head()"
   ]
  },
  {
   "cell_type": "code",
   "execution_count": null,
   "metadata": {
    "colab": {
     "base_uri": "https://localhost:8080/",
     "height": 334
    },
    "id": "d6mQwgvsEgra",
    "outputId": "502088ff-f2d7-44bc-93b4-7da080b8379d"
   },
   "outputs": [
    {
     "data": {
      "text/html": [
       "<div>\n",
       "<style scoped>\n",
       "    .dataframe tbody tr th:only-of-type {\n",
       "        vertical-align: middle;\n",
       "    }\n",
       "\n",
       "    .dataframe tbody tr th {\n",
       "        vertical-align: top;\n",
       "    }\n",
       "\n",
       "    .dataframe thead th {\n",
       "        text-align: right;\n",
       "    }\n",
       "</style>\n",
       "<table border=\"1\" class=\"dataframe\">\n",
       "  <thead>\n",
       "    <tr style=\"text-align: right;\">\n",
       "      <th></th>\n",
       "      <th>age</th>\n",
       "      <th>marital</th>\n",
       "      <th>education</th>\n",
       "      <th>default</th>\n",
       "      <th>balance</th>\n",
       "      <th>housing</th>\n",
       "      <th>loan</th>\n",
       "      <th>contact</th>\n",
       "      <th>day</th>\n",
       "      <th>month</th>\n",
       "      <th>duration</th>\n",
       "      <th>campaign</th>\n",
       "      <th>pdays</th>\n",
       "      <th>previous</th>\n",
       "      <th>y</th>\n",
       "      <th>purchased_loan</th>\n",
       "      <th>default_cat</th>\n",
       "      <th>housing_cat</th>\n",
       "      <th>loan_cat</th>\n",
       "      <th>job_cat</th>\n",
       "      <th>marital_cat</th>\n",
       "      <th>education_cat</th>\n",
       "      <th>job_admin.</th>\n",
       "      <th>job_blue-collar</th>\n",
       "      <th>job_entrepreneur</th>\n",
       "      <th>job_housemaid</th>\n",
       "      <th>job_management</th>\n",
       "      <th>job_retired</th>\n",
       "      <th>job_self-employed</th>\n",
       "      <th>job_services</th>\n",
       "      <th>job_student</th>\n",
       "      <th>job_technician</th>\n",
       "      <th>job_unemployed</th>\n",
       "      <th>job_unknown</th>\n",
       "    </tr>\n",
       "  </thead>\n",
       "  <tbody>\n",
       "    <tr>\n",
       "      <th>count</th>\n",
       "      <td>45211.000000</td>\n",
       "      <td>45211.000000</td>\n",
       "      <td>45211.000000</td>\n",
       "      <td>45211.000000</td>\n",
       "      <td>45211.000000</td>\n",
       "      <td>45211.000000</td>\n",
       "      <td>45211.000000</td>\n",
       "      <td>45211.000000</td>\n",
       "      <td>45211.000000</td>\n",
       "      <td>45211.000000</td>\n",
       "      <td>45211.000000</td>\n",
       "      <td>45211.000000</td>\n",
       "      <td>45211.000000</td>\n",
       "      <td>45211.000000</td>\n",
       "      <td>45211.000000</td>\n",
       "      <td>45211.000000</td>\n",
       "      <td>45211.000000</td>\n",
       "      <td>45211.000000</td>\n",
       "      <td>45211.000000</td>\n",
       "      <td>45211.000000</td>\n",
       "      <td>45211.000000</td>\n",
       "      <td>45211.000000</td>\n",
       "      <td>45211.000000</td>\n",
       "      <td>45211.000000</td>\n",
       "      <td>45211.000000</td>\n",
       "      <td>45211.000000</td>\n",
       "      <td>45211.000000</td>\n",
       "      <td>45211.000000</td>\n",
       "      <td>45211.000000</td>\n",
       "      <td>45211.00000</td>\n",
       "      <td>45211.000000</td>\n",
       "      <td>45211.000000</td>\n",
       "      <td>45211.000000</td>\n",
       "      <td>45211.000000</td>\n",
       "    </tr>\n",
       "    <tr>\n",
       "      <th>mean</th>\n",
       "      <td>40.936210</td>\n",
       "      <td>1.486762</td>\n",
       "      <td>2.060516</td>\n",
       "      <td>0.018027</td>\n",
       "      <td>1362.272058</td>\n",
       "      <td>0.555838</td>\n",
       "      <td>0.160226</td>\n",
       "      <td>0.776293</td>\n",
       "      <td>15.806419</td>\n",
       "      <td>6.144655</td>\n",
       "      <td>258.163080</td>\n",
       "      <td>2.763841</td>\n",
       "      <td>40.197828</td>\n",
       "      <td>0.580323</td>\n",
       "      <td>0.116985</td>\n",
       "      <td>0.116985</td>\n",
       "      <td>0.018027</td>\n",
       "      <td>0.555838</td>\n",
       "      <td>0.160226</td>\n",
       "      <td>4.339762</td>\n",
       "      <td>1.167725</td>\n",
       "      <td>1.224813</td>\n",
       "      <td>0.114375</td>\n",
       "      <td>0.215257</td>\n",
       "      <td>0.032890</td>\n",
       "      <td>0.027427</td>\n",
       "      <td>0.209197</td>\n",
       "      <td>0.050076</td>\n",
       "      <td>0.034925</td>\n",
       "      <td>0.09188</td>\n",
       "      <td>0.020747</td>\n",
       "      <td>0.168034</td>\n",
       "      <td>0.028820</td>\n",
       "      <td>0.006370</td>\n",
       "    </tr>\n",
       "    <tr>\n",
       "      <th>std</th>\n",
       "      <td>10.618762</td>\n",
       "      <td>0.692948</td>\n",
       "      <td>0.778704</td>\n",
       "      <td>0.133049</td>\n",
       "      <td>3044.765829</td>\n",
       "      <td>0.496878</td>\n",
       "      <td>0.366820</td>\n",
       "      <td>0.549747</td>\n",
       "      <td>8.322476</td>\n",
       "      <td>2.408034</td>\n",
       "      <td>257.527812</td>\n",
       "      <td>3.098021</td>\n",
       "      <td>100.128746</td>\n",
       "      <td>2.303441</td>\n",
       "      <td>0.321406</td>\n",
       "      <td>0.321406</td>\n",
       "      <td>0.133049</td>\n",
       "      <td>0.496878</td>\n",
       "      <td>0.366820</td>\n",
       "      <td>3.272657</td>\n",
       "      <td>0.608230</td>\n",
       "      <td>0.747997</td>\n",
       "      <td>0.318269</td>\n",
       "      <td>0.411005</td>\n",
       "      <td>0.178351</td>\n",
       "      <td>0.163326</td>\n",
       "      <td>0.406740</td>\n",
       "      <td>0.218105</td>\n",
       "      <td>0.183592</td>\n",
       "      <td>0.28886</td>\n",
       "      <td>0.142538</td>\n",
       "      <td>0.373901</td>\n",
       "      <td>0.167303</td>\n",
       "      <td>0.079559</td>\n",
       "    </tr>\n",
       "    <tr>\n",
       "      <th>min</th>\n",
       "      <td>18.000000</td>\n",
       "      <td>0.000000</td>\n",
       "      <td>0.000000</td>\n",
       "      <td>0.000000</td>\n",
       "      <td>-8019.000000</td>\n",
       "      <td>0.000000</td>\n",
       "      <td>0.000000</td>\n",
       "      <td>0.000000</td>\n",
       "      <td>1.000000</td>\n",
       "      <td>1.000000</td>\n",
       "      <td>0.000000</td>\n",
       "      <td>1.000000</td>\n",
       "      <td>-1.000000</td>\n",
       "      <td>0.000000</td>\n",
       "      <td>0.000000</td>\n",
       "      <td>0.000000</td>\n",
       "      <td>0.000000</td>\n",
       "      <td>0.000000</td>\n",
       "      <td>0.000000</td>\n",
       "      <td>0.000000</td>\n",
       "      <td>0.000000</td>\n",
       "      <td>0.000000</td>\n",
       "      <td>0.000000</td>\n",
       "      <td>0.000000</td>\n",
       "      <td>0.000000</td>\n",
       "      <td>0.000000</td>\n",
       "      <td>0.000000</td>\n",
       "      <td>0.000000</td>\n",
       "      <td>0.000000</td>\n",
       "      <td>0.00000</td>\n",
       "      <td>0.000000</td>\n",
       "      <td>0.000000</td>\n",
       "      <td>0.000000</td>\n",
       "      <td>0.000000</td>\n",
       "    </tr>\n",
       "    <tr>\n",
       "      <th>25%</th>\n",
       "      <td>33.000000</td>\n",
       "      <td>1.000000</td>\n",
       "      <td>2.000000</td>\n",
       "      <td>0.000000</td>\n",
       "      <td>72.000000</td>\n",
       "      <td>0.000000</td>\n",
       "      <td>0.000000</td>\n",
       "      <td>0.000000</td>\n",
       "      <td>8.000000</td>\n",
       "      <td>5.000000</td>\n",
       "      <td>103.000000</td>\n",
       "      <td>1.000000</td>\n",
       "      <td>-1.000000</td>\n",
       "      <td>0.000000</td>\n",
       "      <td>0.000000</td>\n",
       "      <td>0.000000</td>\n",
       "      <td>0.000000</td>\n",
       "      <td>0.000000</td>\n",
       "      <td>0.000000</td>\n",
       "      <td>1.000000</td>\n",
       "      <td>1.000000</td>\n",
       "      <td>1.000000</td>\n",
       "      <td>0.000000</td>\n",
       "      <td>0.000000</td>\n",
       "      <td>0.000000</td>\n",
       "      <td>0.000000</td>\n",
       "      <td>0.000000</td>\n",
       "      <td>0.000000</td>\n",
       "      <td>0.000000</td>\n",
       "      <td>0.00000</td>\n",
       "      <td>0.000000</td>\n",
       "      <td>0.000000</td>\n",
       "      <td>0.000000</td>\n",
       "      <td>0.000000</td>\n",
       "    </tr>\n",
       "    <tr>\n",
       "      <th>50%</th>\n",
       "      <td>39.000000</td>\n",
       "      <td>2.000000</td>\n",
       "      <td>2.000000</td>\n",
       "      <td>0.000000</td>\n",
       "      <td>448.000000</td>\n",
       "      <td>1.000000</td>\n",
       "      <td>0.000000</td>\n",
       "      <td>1.000000</td>\n",
       "      <td>16.000000</td>\n",
       "      <td>6.000000</td>\n",
       "      <td>180.000000</td>\n",
       "      <td>2.000000</td>\n",
       "      <td>-1.000000</td>\n",
       "      <td>0.000000</td>\n",
       "      <td>0.000000</td>\n",
       "      <td>0.000000</td>\n",
       "      <td>0.000000</td>\n",
       "      <td>1.000000</td>\n",
       "      <td>0.000000</td>\n",
       "      <td>4.000000</td>\n",
       "      <td>1.000000</td>\n",
       "      <td>1.000000</td>\n",
       "      <td>0.000000</td>\n",
       "      <td>0.000000</td>\n",
       "      <td>0.000000</td>\n",
       "      <td>0.000000</td>\n",
       "      <td>0.000000</td>\n",
       "      <td>0.000000</td>\n",
       "      <td>0.000000</td>\n",
       "      <td>0.00000</td>\n",
       "      <td>0.000000</td>\n",
       "      <td>0.000000</td>\n",
       "      <td>0.000000</td>\n",
       "      <td>0.000000</td>\n",
       "    </tr>\n",
       "    <tr>\n",
       "      <th>75%</th>\n",
       "      <td>48.000000</td>\n",
       "      <td>2.000000</td>\n",
       "      <td>3.000000</td>\n",
       "      <td>0.000000</td>\n",
       "      <td>1428.000000</td>\n",
       "      <td>1.000000</td>\n",
       "      <td>0.000000</td>\n",
       "      <td>1.000000</td>\n",
       "      <td>21.000000</td>\n",
       "      <td>8.000000</td>\n",
       "      <td>319.000000</td>\n",
       "      <td>3.000000</td>\n",
       "      <td>-1.000000</td>\n",
       "      <td>0.000000</td>\n",
       "      <td>0.000000</td>\n",
       "      <td>0.000000</td>\n",
       "      <td>0.000000</td>\n",
       "      <td>1.000000</td>\n",
       "      <td>0.000000</td>\n",
       "      <td>7.000000</td>\n",
       "      <td>2.000000</td>\n",
       "      <td>2.000000</td>\n",
       "      <td>0.000000</td>\n",
       "      <td>0.000000</td>\n",
       "      <td>0.000000</td>\n",
       "      <td>0.000000</td>\n",
       "      <td>0.000000</td>\n",
       "      <td>0.000000</td>\n",
       "      <td>0.000000</td>\n",
       "      <td>0.00000</td>\n",
       "      <td>0.000000</td>\n",
       "      <td>0.000000</td>\n",
       "      <td>0.000000</td>\n",
       "      <td>0.000000</td>\n",
       "    </tr>\n",
       "    <tr>\n",
       "      <th>max</th>\n",
       "      <td>95.000000</td>\n",
       "      <td>2.000000</td>\n",
       "      <td>3.000000</td>\n",
       "      <td>1.000000</td>\n",
       "      <td>102127.000000</td>\n",
       "      <td>1.000000</td>\n",
       "      <td>1.000000</td>\n",
       "      <td>2.000000</td>\n",
       "      <td>31.000000</td>\n",
       "      <td>12.000000</td>\n",
       "      <td>4918.000000</td>\n",
       "      <td>63.000000</td>\n",
       "      <td>871.000000</td>\n",
       "      <td>275.000000</td>\n",
       "      <td>1.000000</td>\n",
       "      <td>1.000000</td>\n",
       "      <td>1.000000</td>\n",
       "      <td>1.000000</td>\n",
       "      <td>1.000000</td>\n",
       "      <td>11.000000</td>\n",
       "      <td>2.000000</td>\n",
       "      <td>3.000000</td>\n",
       "      <td>1.000000</td>\n",
       "      <td>1.000000</td>\n",
       "      <td>1.000000</td>\n",
       "      <td>1.000000</td>\n",
       "      <td>1.000000</td>\n",
       "      <td>1.000000</td>\n",
       "      <td>1.000000</td>\n",
       "      <td>1.00000</td>\n",
       "      <td>1.000000</td>\n",
       "      <td>1.000000</td>\n",
       "      <td>1.000000</td>\n",
       "      <td>1.000000</td>\n",
       "    </tr>\n",
       "  </tbody>\n",
       "</table>\n",
       "</div>"
      ],
      "text/plain": [
       "                age       marital  ...  job_unemployed   job_unknown\n",
       "count  45211.000000  45211.000000  ...    45211.000000  45211.000000\n",
       "mean      40.936210      1.486762  ...        0.028820      0.006370\n",
       "std       10.618762      0.692948  ...        0.167303      0.079559\n",
       "min       18.000000      0.000000  ...        0.000000      0.000000\n",
       "25%       33.000000      1.000000  ...        0.000000      0.000000\n",
       "50%       39.000000      2.000000  ...        0.000000      0.000000\n",
       "75%       48.000000      2.000000  ...        0.000000      0.000000\n",
       "max       95.000000      2.000000  ...        1.000000      1.000000\n",
       "\n",
       "[8 rows x 34 columns]"
      ]
     },
     "execution_count": 68,
     "metadata": {
      "tags": []
     },
     "output_type": "execute_result"
    }
   ],
   "source": [
    "df.describe()"
   ]
  },
  {
   "cell_type": "code",
   "execution_count": null,
   "metadata": {
    "colab": {
     "base_uri": "https://localhost:8080/"
    },
    "id": "Nw23XnSHEikV",
    "outputId": "45760b09-9268-4fa2-f5e8-4c6693334a70"
   },
   "outputs": [
    {
     "data": {
      "text/plain": [
       "array(['unknown', 'failure', 'other', 'success'], dtype=object)"
      ]
     },
     "execution_count": 69,
     "metadata": {
      "tags": []
     },
     "output_type": "execute_result"
    }
   ],
   "source": [
    "df['poutcome'].unique()"
   ]
  },
  {
   "cell_type": "code",
   "execution_count": null,
   "metadata": {
    "colab": {
     "base_uri": "https://localhost:8080/"
    },
    "id": "UjQLWLYuEm_n",
    "outputId": "acffa994-1457-4aef-da96-36be20d786c6"
   },
   "outputs": [
    {
     "data": {
      "text/plain": [
       "array([0, 1])"
      ]
     },
     "execution_count": 70,
     "metadata": {
      "tags": []
     },
     "output_type": "execute_result"
    }
   ],
   "source": [
    "# consider the group the poutcome four category into two: one is success (1) and the other is failure (0)\n",
    "\n",
    "df['poutcome'] = df['poutcome'].replace('unknown',0).replace('failure',0).replace('other',0).replace('success',1)\n",
    "df['poutcome'].unique()"
   ]
  },
  {
   "cell_type": "code",
   "execution_count": null,
   "metadata": {
    "colab": {
     "base_uri": "https://localhost:8080/"
    },
    "id": "h4y67r0nEsqQ",
    "outputId": "bf4428bd-a542-4013-9ba4-15e5bcd1e203"
   },
   "outputs": [
    {
     "name": "stdout",
     "output_type": "stream",
     "text": [
      "<class 'pandas.core.frame.DataFrame'>\n",
      "RangeIndex: 45211 entries, 0 to 45210\n",
      "Data columns (total 39 columns):\n",
      " #   Column             Non-Null Count  Dtype   \n",
      "---  ------             --------------  -----   \n",
      " 0   age                45211 non-null  int64   \n",
      " 1   job                45211 non-null  object  \n",
      " 2   marital            45211 non-null  int64   \n",
      " 3   education          45211 non-null  int64   \n",
      " 4   default            45211 non-null  int64   \n",
      " 5   balance            45211 non-null  int64   \n",
      " 6   housing            45211 non-null  int64   \n",
      " 7   loan               45211 non-null  int64   \n",
      " 8   contact            45211 non-null  int64   \n",
      " 9   day                45211 non-null  int64   \n",
      " 10  month              45211 non-null  int64   \n",
      " 11  duration           45211 non-null  int64   \n",
      " 12  campaign           45211 non-null  int64   \n",
      " 13  pdays              45211 non-null  int64   \n",
      " 14  previous           45211 non-null  int64   \n",
      " 15  poutcome           45211 non-null  int64   \n",
      " 16  y                  45211 non-null  int64   \n",
      " 17  purchased_loan     45211 non-null  int8    \n",
      " 18  default_cat        45211 non-null  int8    \n",
      " 19  housing_cat        45211 non-null  int8    \n",
      " 20  loan_cat           45211 non-null  int8    \n",
      " 21  job_cat            45211 non-null  int8    \n",
      " 22  marital_cat        45211 non-null  int8    \n",
      " 23  education_cat      45211 non-null  int8    \n",
      " 24  age_bin            45211 non-null  category\n",
      " 25  balance_bin        45211 non-null  category\n",
      " 26  duration_bin       45208 non-null  category\n",
      " 27  job_admin.         45211 non-null  uint8   \n",
      " 28  job_blue-collar    45211 non-null  uint8   \n",
      " 29  job_entrepreneur   45211 non-null  uint8   \n",
      " 30  job_housemaid      45211 non-null  uint8   \n",
      " 31  job_management     45211 non-null  uint8   \n",
      " 32  job_retired        45211 non-null  uint8   \n",
      " 33  job_self-employed  45211 non-null  uint8   \n",
      " 34  job_services       45211 non-null  uint8   \n",
      " 35  job_student        45211 non-null  uint8   \n",
      " 36  job_technician     45211 non-null  uint8   \n",
      " 37  job_unemployed     45211 non-null  uint8   \n",
      " 38  job_unknown        45211 non-null  uint8   \n",
      "dtypes: category(3), int64(16), int8(7), object(1), uint8(12)\n",
      "memory usage: 6.8+ MB\n"
     ]
    }
   ],
   "source": [
    "df.info()"
   ]
  },
  {
   "cell_type": "code",
   "execution_count": null,
   "metadata": {
    "colab": {
     "base_uri": "https://localhost:8080/"
    },
    "id": "ophlGdNLEvF1",
    "outputId": "c1b8dd75-cfa6-4e48-f6e4-d3bb8daa80ec"
   },
   "outputs": [
    {
     "data": {
      "text/plain": [
       "Index(['age', 'job', 'marital', 'education', 'default', 'balance', 'housing',\n",
       "       'loan', 'contact', 'day', 'month', 'duration', 'campaign', 'pdays',\n",
       "       'previous', 'poutcome', 'y', 'purchased_loan', 'default_cat',\n",
       "       'housing_cat', 'loan_cat', 'job_cat', 'marital_cat', 'education_cat',\n",
       "       'age_bin', 'balance_bin', 'duration_bin', 'job_admin.',\n",
       "       'job_blue-collar', 'job_entrepreneur', 'job_housemaid',\n",
       "       'job_management', 'job_retired', 'job_self-employed', 'job_services',\n",
       "       'job_student', 'job_technician', 'job_unemployed', 'job_unknown'],\n",
       "      dtype='object')"
      ]
     },
     "execution_count": 72,
     "metadata": {
      "tags": []
     },
     "output_type": "execute_result"
    }
   ],
   "source": [
    "df.columns"
   ]
  },
  {
   "cell_type": "code",
   "execution_count": null,
   "metadata": {
    "colab": {
     "base_uri": "https://localhost:8080/",
     "height": 241
    },
    "id": "9eOuAMLAE2s7",
    "outputId": "1fc61196-a68d-4f20-e9f0-d365e5716b81"
   },
   "outputs": [
    {
     "data": {
      "text/html": [
       "<div>\n",
       "<style scoped>\n",
       "    .dataframe tbody tr th:only-of-type {\n",
       "        vertical-align: middle;\n",
       "    }\n",
       "\n",
       "    .dataframe tbody tr th {\n",
       "        vertical-align: top;\n",
       "    }\n",
       "\n",
       "    .dataframe thead th {\n",
       "        text-align: right;\n",
       "    }\n",
       "</style>\n",
       "<table border=\"1\" class=\"dataframe\">\n",
       "  <thead>\n",
       "    <tr style=\"text-align: right;\">\n",
       "      <th></th>\n",
       "      <th>age</th>\n",
       "      <th>marital</th>\n",
       "      <th>education</th>\n",
       "      <th>default</th>\n",
       "      <th>balance</th>\n",
       "      <th>housing</th>\n",
       "      <th>loan</th>\n",
       "      <th>contact</th>\n",
       "      <th>day</th>\n",
       "      <th>month</th>\n",
       "      <th>duration</th>\n",
       "      <th>campaign</th>\n",
       "      <th>pdays</th>\n",
       "      <th>previous</th>\n",
       "      <th>poutcome</th>\n",
       "      <th>y</th>\n",
       "      <th>purchased_loan</th>\n",
       "      <th>default_cat</th>\n",
       "      <th>housing_cat</th>\n",
       "      <th>loan_cat</th>\n",
       "      <th>job_cat</th>\n",
       "      <th>marital_cat</th>\n",
       "      <th>education_cat</th>\n",
       "      <th>age_bin</th>\n",
       "      <th>balance_bin</th>\n",
       "      <th>duration_bin</th>\n",
       "      <th>job_admin.</th>\n",
       "      <th>job_blue-collar</th>\n",
       "      <th>job_entrepreneur</th>\n",
       "      <th>job_housemaid</th>\n",
       "      <th>job_management</th>\n",
       "      <th>job_retired</th>\n",
       "      <th>job_self-employed</th>\n",
       "      <th>job_services</th>\n",
       "      <th>job_student</th>\n",
       "      <th>job_technician</th>\n",
       "      <th>job_unemployed</th>\n",
       "      <th>job_unknown</th>\n",
       "    </tr>\n",
       "  </thead>\n",
       "  <tbody>\n",
       "    <tr>\n",
       "      <th>0</th>\n",
       "      <td>58</td>\n",
       "      <td>2</td>\n",
       "      <td>3</td>\n",
       "      <td>0</td>\n",
       "      <td>2143</td>\n",
       "      <td>1</td>\n",
       "      <td>0</td>\n",
       "      <td>0</td>\n",
       "      <td>5</td>\n",
       "      <td>5</td>\n",
       "      <td>261</td>\n",
       "      <td>1</td>\n",
       "      <td>-1</td>\n",
       "      <td>0</td>\n",
       "      <td>0</td>\n",
       "      <td>0</td>\n",
       "      <td>0</td>\n",
       "      <td>0</td>\n",
       "      <td>1</td>\n",
       "      <td>0</td>\n",
       "      <td>4</td>\n",
       "      <td>1</td>\n",
       "      <td>2</td>\n",
       "      <td>(50, 60]</td>\n",
       "      <td>(1, 5]</td>\n",
       "      <td>(240, 300]</td>\n",
       "      <td>0</td>\n",
       "      <td>0</td>\n",
       "      <td>0</td>\n",
       "      <td>0</td>\n",
       "      <td>1</td>\n",
       "      <td>0</td>\n",
       "      <td>0</td>\n",
       "      <td>0</td>\n",
       "      <td>0</td>\n",
       "      <td>0</td>\n",
       "      <td>0</td>\n",
       "      <td>0</td>\n",
       "    </tr>\n",
       "    <tr>\n",
       "      <th>1</th>\n",
       "      <td>44</td>\n",
       "      <td>1</td>\n",
       "      <td>2</td>\n",
       "      <td>0</td>\n",
       "      <td>29</td>\n",
       "      <td>1</td>\n",
       "      <td>0</td>\n",
       "      <td>0</td>\n",
       "      <td>5</td>\n",
       "      <td>5</td>\n",
       "      <td>151</td>\n",
       "      <td>1</td>\n",
       "      <td>-1</td>\n",
       "      <td>0</td>\n",
       "      <td>0</td>\n",
       "      <td>0</td>\n",
       "      <td>0</td>\n",
       "      <td>0</td>\n",
       "      <td>1</td>\n",
       "      <td>0</td>\n",
       "      <td>9</td>\n",
       "      <td>2</td>\n",
       "      <td>1</td>\n",
       "      <td>(40, 50]</td>\n",
       "      <td>(0, 1]</td>\n",
       "      <td>(120, 180]</td>\n",
       "      <td>0</td>\n",
       "      <td>0</td>\n",
       "      <td>0</td>\n",
       "      <td>0</td>\n",
       "      <td>0</td>\n",
       "      <td>0</td>\n",
       "      <td>0</td>\n",
       "      <td>0</td>\n",
       "      <td>0</td>\n",
       "      <td>1</td>\n",
       "      <td>0</td>\n",
       "      <td>0</td>\n",
       "    </tr>\n",
       "    <tr>\n",
       "      <th>2</th>\n",
       "      <td>33</td>\n",
       "      <td>2</td>\n",
       "      <td>2</td>\n",
       "      <td>0</td>\n",
       "      <td>2</td>\n",
       "      <td>1</td>\n",
       "      <td>1</td>\n",
       "      <td>0</td>\n",
       "      <td>5</td>\n",
       "      <td>5</td>\n",
       "      <td>76</td>\n",
       "      <td>1</td>\n",
       "      <td>-1</td>\n",
       "      <td>0</td>\n",
       "      <td>0</td>\n",
       "      <td>0</td>\n",
       "      <td>0</td>\n",
       "      <td>0</td>\n",
       "      <td>1</td>\n",
       "      <td>1</td>\n",
       "      <td>2</td>\n",
       "      <td>1</td>\n",
       "      <td>1</td>\n",
       "      <td>(30, 40]</td>\n",
       "      <td>(0, 1]</td>\n",
       "      <td>(60, 120]</td>\n",
       "      <td>0</td>\n",
       "      <td>0</td>\n",
       "      <td>1</td>\n",
       "      <td>0</td>\n",
       "      <td>0</td>\n",
       "      <td>0</td>\n",
       "      <td>0</td>\n",
       "      <td>0</td>\n",
       "      <td>0</td>\n",
       "      <td>0</td>\n",
       "      <td>0</td>\n",
       "      <td>0</td>\n",
       "    </tr>\n",
       "    <tr>\n",
       "      <th>3</th>\n",
       "      <td>47</td>\n",
       "      <td>2</td>\n",
       "      <td>0</td>\n",
       "      <td>0</td>\n",
       "      <td>1506</td>\n",
       "      <td>1</td>\n",
       "      <td>0</td>\n",
       "      <td>0</td>\n",
       "      <td>5</td>\n",
       "      <td>5</td>\n",
       "      <td>92</td>\n",
       "      <td>1</td>\n",
       "      <td>-1</td>\n",
       "      <td>0</td>\n",
       "      <td>0</td>\n",
       "      <td>0</td>\n",
       "      <td>0</td>\n",
       "      <td>0</td>\n",
       "      <td>1</td>\n",
       "      <td>0</td>\n",
       "      <td>1</td>\n",
       "      <td>1</td>\n",
       "      <td>3</td>\n",
       "      <td>(40, 50]</td>\n",
       "      <td>(1, 5]</td>\n",
       "      <td>(60, 120]</td>\n",
       "      <td>0</td>\n",
       "      <td>1</td>\n",
       "      <td>0</td>\n",
       "      <td>0</td>\n",
       "      <td>0</td>\n",
       "      <td>0</td>\n",
       "      <td>0</td>\n",
       "      <td>0</td>\n",
       "      <td>0</td>\n",
       "      <td>0</td>\n",
       "      <td>0</td>\n",
       "      <td>0</td>\n",
       "    </tr>\n",
       "    <tr>\n",
       "      <th>4</th>\n",
       "      <td>33</td>\n",
       "      <td>1</td>\n",
       "      <td>0</td>\n",
       "      <td>0</td>\n",
       "      <td>1</td>\n",
       "      <td>0</td>\n",
       "      <td>0</td>\n",
       "      <td>0</td>\n",
       "      <td>5</td>\n",
       "      <td>5</td>\n",
       "      <td>198</td>\n",
       "      <td>1</td>\n",
       "      <td>-1</td>\n",
       "      <td>0</td>\n",
       "      <td>0</td>\n",
       "      <td>0</td>\n",
       "      <td>0</td>\n",
       "      <td>0</td>\n",
       "      <td>0</td>\n",
       "      <td>0</td>\n",
       "      <td>11</td>\n",
       "      <td>2</td>\n",
       "      <td>3</td>\n",
       "      <td>(30, 40]</td>\n",
       "      <td>(0, 1]</td>\n",
       "      <td>(180, 240]</td>\n",
       "      <td>0</td>\n",
       "      <td>0</td>\n",
       "      <td>0</td>\n",
       "      <td>0</td>\n",
       "      <td>0</td>\n",
       "      <td>0</td>\n",
       "      <td>0</td>\n",
       "      <td>0</td>\n",
       "      <td>0</td>\n",
       "      <td>0</td>\n",
       "      <td>0</td>\n",
       "      <td>1</td>\n",
       "    </tr>\n",
       "  </tbody>\n",
       "</table>\n",
       "</div>"
      ],
      "text/plain": [
       "   age  marital  education  ...  job_technician  job_unemployed  job_unknown\n",
       "0   58        2          3  ...               0               0            0\n",
       "1   44        1          2  ...               1               0            0\n",
       "2   33        2          2  ...               0               0            0\n",
       "3   47        2          0  ...               0               0            0\n",
       "4   33        1          0  ...               0               0            1\n",
       "\n",
       "[5 rows x 38 columns]"
      ]
     },
     "execution_count": 73,
     "metadata": {
      "tags": []
     },
     "output_type": "execute_result"
    }
   ],
   "source": [
    "df = df.drop(['job'], axis = 1)\n",
    "df.head()"
   ]
  },
  {
   "cell_type": "code",
   "execution_count": null,
   "metadata": {
    "colab": {
     "base_uri": "https://localhost:8080/",
     "height": 241
    },
    "id": "jx25X1ehFE8e",
    "outputId": "54e66568-a2d0-4e42-ab6a-df15a5576f40"
   },
   "outputs": [
    {
     "data": {
      "text/html": [
       "<div>\n",
       "<style scoped>\n",
       "    .dataframe tbody tr th:only-of-type {\n",
       "        vertical-align: middle;\n",
       "    }\n",
       "\n",
       "    .dataframe tbody tr th {\n",
       "        vertical-align: top;\n",
       "    }\n",
       "\n",
       "    .dataframe thead th {\n",
       "        text-align: right;\n",
       "    }\n",
       "</style>\n",
       "<table border=\"1\" class=\"dataframe\">\n",
       "  <thead>\n",
       "    <tr style=\"text-align: right;\">\n",
       "      <th></th>\n",
       "      <th>age</th>\n",
       "      <th>marital</th>\n",
       "      <th>education</th>\n",
       "      <th>default</th>\n",
       "      <th>balance</th>\n",
       "      <th>housing</th>\n",
       "      <th>loan</th>\n",
       "      <th>contact</th>\n",
       "      <th>day</th>\n",
       "      <th>month</th>\n",
       "      <th>duration</th>\n",
       "      <th>campaign</th>\n",
       "      <th>pdays</th>\n",
       "      <th>previous</th>\n",
       "      <th>poutcome</th>\n",
       "      <th>y</th>\n",
       "      <th>job_admin.</th>\n",
       "      <th>job_blue-collar</th>\n",
       "      <th>job_entrepreneur</th>\n",
       "      <th>job_housemaid</th>\n",
       "      <th>job_management</th>\n",
       "      <th>job_retired</th>\n",
       "      <th>job_self-employed</th>\n",
       "      <th>job_services</th>\n",
       "      <th>job_student</th>\n",
       "      <th>job_technician</th>\n",
       "      <th>job_unemployed</th>\n",
       "      <th>job_unknown</th>\n",
       "    </tr>\n",
       "  </thead>\n",
       "  <tbody>\n",
       "    <tr>\n",
       "      <th>0</th>\n",
       "      <td>58</td>\n",
       "      <td>2</td>\n",
       "      <td>3</td>\n",
       "      <td>0</td>\n",
       "      <td>2143</td>\n",
       "      <td>1</td>\n",
       "      <td>0</td>\n",
       "      <td>0</td>\n",
       "      <td>5</td>\n",
       "      <td>5</td>\n",
       "      <td>261</td>\n",
       "      <td>1</td>\n",
       "      <td>-1</td>\n",
       "      <td>0</td>\n",
       "      <td>0</td>\n",
       "      <td>0</td>\n",
       "      <td>0</td>\n",
       "      <td>0</td>\n",
       "      <td>0</td>\n",
       "      <td>0</td>\n",
       "      <td>1</td>\n",
       "      <td>0</td>\n",
       "      <td>0</td>\n",
       "      <td>0</td>\n",
       "      <td>0</td>\n",
       "      <td>0</td>\n",
       "      <td>0</td>\n",
       "      <td>0</td>\n",
       "    </tr>\n",
       "    <tr>\n",
       "      <th>1</th>\n",
       "      <td>44</td>\n",
       "      <td>1</td>\n",
       "      <td>2</td>\n",
       "      <td>0</td>\n",
       "      <td>29</td>\n",
       "      <td>1</td>\n",
       "      <td>0</td>\n",
       "      <td>0</td>\n",
       "      <td>5</td>\n",
       "      <td>5</td>\n",
       "      <td>151</td>\n",
       "      <td>1</td>\n",
       "      <td>-1</td>\n",
       "      <td>0</td>\n",
       "      <td>0</td>\n",
       "      <td>0</td>\n",
       "      <td>0</td>\n",
       "      <td>0</td>\n",
       "      <td>0</td>\n",
       "      <td>0</td>\n",
       "      <td>0</td>\n",
       "      <td>0</td>\n",
       "      <td>0</td>\n",
       "      <td>0</td>\n",
       "      <td>0</td>\n",
       "      <td>1</td>\n",
       "      <td>0</td>\n",
       "      <td>0</td>\n",
       "    </tr>\n",
       "    <tr>\n",
       "      <th>2</th>\n",
       "      <td>33</td>\n",
       "      <td>2</td>\n",
       "      <td>2</td>\n",
       "      <td>0</td>\n",
       "      <td>2</td>\n",
       "      <td>1</td>\n",
       "      <td>1</td>\n",
       "      <td>0</td>\n",
       "      <td>5</td>\n",
       "      <td>5</td>\n",
       "      <td>76</td>\n",
       "      <td>1</td>\n",
       "      <td>-1</td>\n",
       "      <td>0</td>\n",
       "      <td>0</td>\n",
       "      <td>0</td>\n",
       "      <td>0</td>\n",
       "      <td>0</td>\n",
       "      <td>1</td>\n",
       "      <td>0</td>\n",
       "      <td>0</td>\n",
       "      <td>0</td>\n",
       "      <td>0</td>\n",
       "      <td>0</td>\n",
       "      <td>0</td>\n",
       "      <td>0</td>\n",
       "      <td>0</td>\n",
       "      <td>0</td>\n",
       "    </tr>\n",
       "    <tr>\n",
       "      <th>3</th>\n",
       "      <td>47</td>\n",
       "      <td>2</td>\n",
       "      <td>0</td>\n",
       "      <td>0</td>\n",
       "      <td>1506</td>\n",
       "      <td>1</td>\n",
       "      <td>0</td>\n",
       "      <td>0</td>\n",
       "      <td>5</td>\n",
       "      <td>5</td>\n",
       "      <td>92</td>\n",
       "      <td>1</td>\n",
       "      <td>-1</td>\n",
       "      <td>0</td>\n",
       "      <td>0</td>\n",
       "      <td>0</td>\n",
       "      <td>0</td>\n",
       "      <td>1</td>\n",
       "      <td>0</td>\n",
       "      <td>0</td>\n",
       "      <td>0</td>\n",
       "      <td>0</td>\n",
       "      <td>0</td>\n",
       "      <td>0</td>\n",
       "      <td>0</td>\n",
       "      <td>0</td>\n",
       "      <td>0</td>\n",
       "      <td>0</td>\n",
       "    </tr>\n",
       "    <tr>\n",
       "      <th>4</th>\n",
       "      <td>33</td>\n",
       "      <td>1</td>\n",
       "      <td>0</td>\n",
       "      <td>0</td>\n",
       "      <td>1</td>\n",
       "      <td>0</td>\n",
       "      <td>0</td>\n",
       "      <td>0</td>\n",
       "      <td>5</td>\n",
       "      <td>5</td>\n",
       "      <td>198</td>\n",
       "      <td>1</td>\n",
       "      <td>-1</td>\n",
       "      <td>0</td>\n",
       "      <td>0</td>\n",
       "      <td>0</td>\n",
       "      <td>0</td>\n",
       "      <td>0</td>\n",
       "      <td>0</td>\n",
       "      <td>0</td>\n",
       "      <td>0</td>\n",
       "      <td>0</td>\n",
       "      <td>0</td>\n",
       "      <td>0</td>\n",
       "      <td>0</td>\n",
       "      <td>0</td>\n",
       "      <td>0</td>\n",
       "      <td>1</td>\n",
       "    </tr>\n",
       "  </tbody>\n",
       "</table>\n",
       "</div>"
      ],
      "text/plain": [
       "   age  marital  education  ...  job_technician  job_unemployed  job_unknown\n",
       "0   58        2          3  ...               0               0            0\n",
       "1   44        1          2  ...               1               0            0\n",
       "2   33        2          2  ...               0               0            0\n",
       "3   47        2          0  ...               0               0            0\n",
       "4   33        1          0  ...               0               0            1\n",
       "\n",
       "[5 rows x 28 columns]"
      ]
     },
     "execution_count": 74,
     "metadata": {
      "tags": []
     },
     "output_type": "execute_result"
    }
   ],
   "source": [
    "df = df.drop(['default_cat', 'purchased_loan',\n",
    "              'housing_cat', 'loan_cat', 'job_cat', 'marital_cat', 'education_cat',\n",
    "              'age_bin', 'balance_bin', 'duration_bin'], axis = 1)\n",
    "df.head()"
   ]
  },
  {
   "cell_type": "code",
   "execution_count": null,
   "metadata": {
    "colab": {
     "base_uri": "https://localhost:8080/"
    },
    "id": "bszQelhKGDT1",
    "outputId": "3515836e-b345-46a1-a609-b02c2a53874d"
   },
   "outputs": [
    {
     "name": "stdout",
     "output_type": "stream",
     "text": [
      "<class 'pandas.core.frame.DataFrame'>\n",
      "RangeIndex: 45211 entries, 0 to 45210\n",
      "Data columns (total 28 columns):\n",
      " #   Column             Non-Null Count  Dtype\n",
      "---  ------             --------------  -----\n",
      " 0   age                45211 non-null  int64\n",
      " 1   marital            45211 non-null  int64\n",
      " 2   education          45211 non-null  int64\n",
      " 3   default            45211 non-null  int64\n",
      " 4   balance            45211 non-null  int64\n",
      " 5   housing            45211 non-null  int64\n",
      " 6   loan               45211 non-null  int64\n",
      " 7   contact            45211 non-null  int64\n",
      " 8   day                45211 non-null  int64\n",
      " 9   month              45211 non-null  int64\n",
      " 10  duration           45211 non-null  int64\n",
      " 11  campaign           45211 non-null  int64\n",
      " 12  pdays              45211 non-null  int64\n",
      " 13  previous           45211 non-null  int64\n",
      " 14  poutcome           45211 non-null  int64\n",
      " 15  y                  45211 non-null  int64\n",
      " 16  job_admin.         45211 non-null  uint8\n",
      " 17  job_blue-collar    45211 non-null  uint8\n",
      " 18  job_entrepreneur   45211 non-null  uint8\n",
      " 19  job_housemaid      45211 non-null  uint8\n",
      " 20  job_management     45211 non-null  uint8\n",
      " 21  job_retired        45211 non-null  uint8\n",
      " 22  job_self-employed  45211 non-null  uint8\n",
      " 23  job_services       45211 non-null  uint8\n",
      " 24  job_student        45211 non-null  uint8\n",
      " 25  job_technician     45211 non-null  uint8\n",
      " 26  job_unemployed     45211 non-null  uint8\n",
      " 27  job_unknown        45211 non-null  uint8\n",
      "dtypes: int64(16), uint8(12)\n",
      "memory usage: 6.0 MB\n"
     ]
    }
   ],
   "source": [
    "df.info()"
   ]
  },
  {
   "cell_type": "code",
   "execution_count": null,
   "metadata": {
    "colab": {
     "base_uri": "https://localhost:8080/"
    },
    "id": "A-mYeeVgGQlw",
    "outputId": "975b9893-1bac-44a3-f2b7-ac5a9330af54"
   },
   "outputs": [
    {
     "name": "stdout",
     "output_type": "stream",
     "text": [
      "['age', 'marital', 'education', 'default', 'balance', 'housing', 'loan', 'contact', 'day', 'month', 'duration', 'campaign', 'pdays', 'previous', 'poutcome', 'job_admin.', 'job_blue-collar', 'job_entrepreneur', 'job_housemaid', 'job_management', 'job_retired', 'job_self-employed', 'job_services', 'job_student', 'job_technician', 'job_unemployed', 'job_unknown']\n"
     ]
    }
   ],
   "source": [
    "feature_list = list(df.columns)\n",
    "feature_list.remove('y')\n",
    "print(feature_list) # prepare a list of features for modeling"
   ]
  },
  {
   "cell_type": "code",
   "execution_count": null,
   "metadata": {
    "id": "TdaOi_J6GUSq"
   },
   "outputs": [],
   "source": [
    "feature_df = pd.DataFrame(columns = ['feature'])\n",
    "feature_df['feature'] = feature_list"
   ]
  },
  {
   "cell_type": "code",
   "execution_count": null,
   "metadata": {
    "id": "KMNQzNUpGY5M"
   },
   "outputs": [],
   "source": [
    "feature_df.to_csv(\"features.csv\") # save the feature list to csv for later modeling use and easy to edit if needed"
   ]
  },
  {
   "cell_type": "code",
   "execution_count": null,
   "metadata": {
    "id": "vzFh2eURGcLq"
   },
   "outputs": [],
   "source": [
    "df.to_csv('cleaned_ads.csv') # save the cleaned data into analytical dataset for modeling use later"
   ]
  },
  {
   "cell_type": "code",
   "execution_count": null,
   "metadata": {
    "colab": {
     "base_uri": "https://localhost:8080/"
    },
    "id": "E3v1c4atGfiU",
    "outputId": "0f0c561a-a9ee-4397-8e98-d3e767ebf704"
   },
   "outputs": [
    {
     "data": {
      "text/plain": [
       "1    5289\n",
       "0    5289\n",
       "Name: y, dtype: int64"
      ]
     },
     "execution_count": 80,
     "metadata": {
      "tags": []
     },
     "output_type": "execute_result"
    }
   ],
   "source": [
    "# Pedro's codes to create balanced analytical data set\n",
    "df_yes = df[df['y'] == 1]\n",
    "df_no = df[df['y'] == 0].sample(n=len(df_yes))\n",
    "df_balanced = pd.concat([df_yes, df_no])\n",
    "df_balanced = df_balanced.sample(frac=1).reset_index(drop=True)\n",
    "df_balanced['y'].value_counts()"
   ]
  },
  {
   "cell_type": "code",
   "execution_count": null,
   "metadata": {
    "colab": {
     "base_uri": "https://localhost:8080/"
    },
    "id": "xhAog4IdGuWE",
    "outputId": "bae1dfd2-efc3-428c-b128-84c5405e39ee"
   },
   "outputs": [
    {
     "data": {
      "text/plain": [
       "Index(['age', 'marital', 'education', 'default', 'balance', 'housing', 'loan',\n",
       "       'contact', 'day', 'month', 'duration', 'campaign', 'pdays', 'previous',\n",
       "       'poutcome', 'y', 'job_admin.', 'job_blue-collar', 'job_entrepreneur',\n",
       "       'job_housemaid', 'job_management', 'job_retired', 'job_self-employed',\n",
       "       'job_services', 'job_student', 'job_technician', 'job_unemployed',\n",
       "       'job_unknown'],\n",
       "      dtype='object')"
      ]
     },
     "execution_count": 81,
     "metadata": {
      "tags": []
     },
     "output_type": "execute_result"
    }
   ],
   "source": [
    "df.columns # double check the features for modeling"
   ]
  },
  {
   "cell_type": "code",
   "execution_count": null,
   "metadata": {
    "colab": {
     "base_uri": "https://localhost:8080/",
     "height": 1000
    },
    "id": "KPFdjfKYGysd",
    "outputId": "076aab33-d1c5-4656-d846-5448a64ddf1e"
   },
   "outputs": [
    {
     "name": "stdout",
     "output_type": "stream",
     "text": [
      "features.csv\n",
      "cleaned_ads.csv\n",
      "(10578, 27) 10578\n",
      "(10578, 27) 10578\n",
      "(8462, 27) 8462 (2116, 27) 2116\n",
      "2020-12-01 16:23:57.121358\n",
      "LR: 0.807656\n",
      "2020-12-01 16:23:57.148914\n",
      "LDA: 0.799622\n",
      "2020-12-01 16:23:57.209293\n",
      "CART: 0.778355\n",
      "2020-12-01 16:23:57.301522\n",
      "NB: 0.720227\n",
      "2020-12-01 16:23:57.312911\n",
      "RF: 0.844991\n",
      "2020-12-01 16:23:58.501252\n"
     ]
    },
    {
     "data": {
      "image/png": "[encoded data removed]",
      "text/plain": [
       "<Figure size 1152x648 with 1 Axes>"
      ]
     },
     "metadata": {
      "needs_background": "light",
      "tags": []
     },
     "output_type": "display_data"
    },
    {
     "name": "stderr",
     "output_type": "stream",
     "text": [
      "No handles with labels found to put in legend.\n"
     ]
    },
    {
     "data": {
      "image/png": "[encoded data removed]",
      "text/plain": [
       "<Figure size 648x1152 with 1 Axes>"
      ]
     },
     "metadata": {
      "needs_background": "light",
      "tags": []
     },
     "output_type": "display_data"
    }
   ],
   "source": [
    "from pandas.plotting import scatter_matrix  \n",
    "from sklearn import model_selection \n",
    "from sklearn import metrics\n",
    "from sklearn.metrics import classification_report  \n",
    "from sklearn.metrics import confusion_matrix  \n",
    "from sklearn.metrics import accuracy_score  \n",
    "from sklearn.linear_model import LogisticRegression  \n",
    "from sklearn.tree import DecisionTreeClassifier  \n",
    "from sklearn.neighbors import KNeighborsClassifier  \n",
    "from sklearn.discriminant_analysis import LinearDiscriminantAnalysis  \n",
    "from sklearn.naive_bayes import GaussianNB \n",
    "from sklearn.ensemble import RandomForestClassifier\n",
    "from sklearn.ensemble import GradientBoostingClassifier\n",
    "from sklearn.model_selection import GridSearchCV\n",
    "from sklearn.model_selection import StratifiedKFold\n",
    "from sklearn.model_selection import train_test_split, ShuffleSplit, cross_validate\n",
    "from sklearn.metrics import roc_curve, auc\n",
    "from sklearn.metrics import roc_auc_score\n",
    "from sklearn import svm, preprocessing\n",
    "from sklearn.svm import SVC\n",
    "import seaborn as sns\n",
    "\n",
    "from matplotlib import style\n",
    "style.use(\"ggplot\")\n",
    "%matplotlib inline\n",
    "\n",
    "def Build_Data_Set():\n",
    "    \n",
    "    features = []\n",
    "    features_df = pd.read_csv(\"features.csv\")\n",
    "    features = features_df['feature'].tolist() # list of 31 features\n",
    "    \n",
    "    ads_df = pd.read_csv('cleaned_ads.csv')\n",
    "    \n",
    "    print(\"features.csv\")\n",
    "    print('cleaned_ads.csv')\n",
    "    \n",
    "    ads_df_yes = ads_df[ads_df['y'] == 1]\n",
    "    ads_df_no = ads_df[ads_df['y'] == 0].sample(n=len(ads_df_yes))\n",
    "    ads_df_balanced = pd.concat([ads_df_yes, ads_df_no])\n",
    "    ads_df_balanced = ads_df_balanced.sample(frac=1).reset_index(drop=True)\n",
    "    \n",
    "    ads_df_balanced.replace([np.inf, -np.inf], 0)\n",
    "    \n",
    "    X = np.array(ads_df_balanced[features].values)\n",
    "    y = ads_df_balanced[\"y\"].values.tolist() \n",
    "    X = preprocessing.scale(X)\n",
    "    \n",
    "    return X, y, features\n",
    "\n",
    "def model_comparison(X_training, y_training, features, seed = 7, splits = 10, validation_size = 0.20, scoring = 'roc_auc'):\n",
    "    \n",
    "    # A quick model comparison (all models using the default parameters)\n",
    "    # to get a general idea on which ones tend to perform better\n",
    "    \n",
    "    # Preparing the train and validation ADS - Analytical Dataset.\n",
    "    \n",
    "    print(X_training.shape, len(y_training))\n",
    "    \n",
    "    X_train, X_validation, Y_train, Y_validation = model_selection.train_test_split(X_training,\n",
    "                                                                                    y_training,\n",
    "                                                                                    test_size=validation_size,\n",
    "                                                                                    random_state=seed)\n",
    "    \n",
    "    print(X_train.shape, len(Y_train), X_validation.shape, len(Y_validation))\n",
    "    \n",
    "    models = []\n",
    "    models.append(('LR', LogisticRegression()))\n",
    "    models.append(('LDA', LinearDiscriminantAnalysis()))\n",
    "#     models.append(('KNN', KNeighborsClassifier())) # too computation expensive on big data set (3M observation) to complete\n",
    "    models.append(('CART', DecisionTreeClassifier()))\n",
    "    models.append(('NB', GaussianNB()))\n",
    "#     models.append(('SVM', SVC())) # too computation expensive on big data set (3M records/observations) to complete\n",
    "    models.append(('RF', RandomForestClassifier()))\n",
    "\n",
    "    # Evaluate each model in turn\n",
    "    \n",
    "    results = []\n",
    "    names = []\n",
    "    for name, model in models:\n",
    "#         kfold = model_selection.KFold(n_splits=splits, random_state=seed)\n",
    "        print(datetime.now())\n",
    "#         cv_results = model_selection.cross_val_score(model, X_train, Y_train, cv=kfold, scoring=scoring, n_jobs = -1)\n",
    "        model.fit(X_train, Y_train)\n",
    "        Y_pred = model.predict(X_validation)\n",
    "        result = metrics.accuracy_score(Y_validation, Y_pred)\n",
    "        results.append(result)\n",
    "        names.append(name)\n",
    "        msg = \"%s: %f\" % (name, result)\n",
    "        print(msg)\n",
    "    \n",
    "    # get the last model (RF) feature importance\n",
    "    feature_imp = pd.Series(model.feature_importances_, index = features).sort_values(ascending = False)\n",
    "    \n",
    "    print(datetime.now())\n",
    "\n",
    "    # Compare Algorithms\n",
    "    fig = plt.figure(figsize = (16,9))\n",
    "    fig.suptitle('Algorithm Comparison')\n",
    "    df = pd.DataFrame(list(zip(names,results)),columns=['model_name', 'model_result'])\n",
    "    ax = sns.barplot(x='model_name',y='model_result', data=df)\n",
    "    ax.set_xticklabels(names)\n",
    "    plt.show()\n",
    "    \n",
    "    return feature_imp\n",
    "\n",
    "def model_tuning():\n",
    "    \n",
    "    # Build the ADS for model tuning\n",
    "    \n",
    "    X_training, y_training, features = Build_Data_Set()\n",
    "    print(X_training.shape, len(y_training))\n",
    "    \n",
    "    # model comparison will return Randomforest model output - feature importance\n",
    "    feature_imp = model_comparison(X_training, y_training, features)\n",
    "    \n",
    "    fig, ax = plt.subplots(figsize=(9, 16))\n",
    "    sns.barplot(x=feature_imp, y=feature_imp.index)\n",
    "    # Add labels to your graph\n",
    "    plt.xlabel('Feature Importance Score')\n",
    "    plt.ylabel('Features')\n",
    "    plt.title(\"Visualizing Important Features\")\n",
    "    plt.legend()\n",
    "    plt.show()\n",
    "\n",
    "\n",
    "model_tuning()"
   ]
  }
 ],
 "metadata": {
  "colab": {
   "collapsed_sections": [],
   "name": "Group8_Project.ipynb",
   "provenance": [],
   "toc_visible": true
  },
  "kernelspec": {
   "display_name": "Python 3",
   "language": "python",
   "name": "python3"
  },
  "language_info": {
   "codemirror_mode": {
    "name": "ipython",
    "version": 3
   },
   "file_extension": ".py",
   "mimetype": "text/x-python",
   "name": "python",
   "nbconvert_exporter": "python",
   "pygments_lexer": "ipython3",
   "version": "3.8.5"
  }
 },
 "nbformat": 4,
 "nbformat_minor": 1
}
